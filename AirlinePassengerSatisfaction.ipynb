{
 "cells": [
  {
   "cell_type": "code",
   "execution_count": 5,
   "id": "cd8a8871-1e8b-4f86-81ac-92fb9bd7d5df",
   "metadata": {},
   "outputs": [],
   "source": [
    "import pandas as pd\n",
    "import matplotlib.pyplot as plt\n",
    "import seaborn as sns\n",
    "import numpy as np"
   ]
  },
  {
   "cell_type": "code",
   "execution_count": 6,
   "id": "24a166ab-7658-4711-94e0-6af39304dec0",
   "metadata": {},
   "outputs": [],
   "source": [
    "df=pd.read_csv(\"Invistico_Airline.csv\")"
   ]
  },
  {
   "cell_type": "code",
   "execution_count": 7,
   "id": "42386e4c-b4da-48af-8ee1-050c1465a430",
   "metadata": {},
   "outputs": [
    {
     "data": {
      "text/html": [
       "<div>\n",
       "<style scoped>\n",
       "    .dataframe tbody tr th:only-of-type {\n",
       "        vertical-align: middle;\n",
       "    }\n",
       "\n",
       "    .dataframe tbody tr th {\n",
       "        vertical-align: top;\n",
       "    }\n",
       "\n",
       "    .dataframe thead th {\n",
       "        text-align: right;\n",
       "    }\n",
       "</style>\n",
       "<table border=\"1\" class=\"dataframe\">\n",
       "  <thead>\n",
       "    <tr style=\"text-align: right;\">\n",
       "      <th></th>\n",
       "      <th>satisfaction</th>\n",
       "      <th>Gender</th>\n",
       "      <th>Customer Type</th>\n",
       "      <th>Age</th>\n",
       "      <th>Type of Travel</th>\n",
       "      <th>Class</th>\n",
       "      <th>Flight Distance</th>\n",
       "      <th>Seat comfort</th>\n",
       "      <th>Departure/Arrival time convenient</th>\n",
       "      <th>Food and drink</th>\n",
       "      <th>...</th>\n",
       "      <th>Online support</th>\n",
       "      <th>Ease of Online booking</th>\n",
       "      <th>On-board service</th>\n",
       "      <th>Leg room service</th>\n",
       "      <th>Baggage handling</th>\n",
       "      <th>Checkin service</th>\n",
       "      <th>Cleanliness</th>\n",
       "      <th>Online boarding</th>\n",
       "      <th>Departure Delay in Minutes</th>\n",
       "      <th>Arrival Delay in Minutes</th>\n",
       "    </tr>\n",
       "  </thead>\n",
       "  <tbody>\n",
       "    <tr>\n",
       "      <th>0</th>\n",
       "      <td>satisfied</td>\n",
       "      <td>Female</td>\n",
       "      <td>Loyal Customer</td>\n",
       "      <td>65</td>\n",
       "      <td>Personal Travel</td>\n",
       "      <td>Eco</td>\n",
       "      <td>265</td>\n",
       "      <td>0</td>\n",
       "      <td>0</td>\n",
       "      <td>0</td>\n",
       "      <td>...</td>\n",
       "      <td>2</td>\n",
       "      <td>3</td>\n",
       "      <td>3</td>\n",
       "      <td>0</td>\n",
       "      <td>3</td>\n",
       "      <td>5</td>\n",
       "      <td>3</td>\n",
       "      <td>2</td>\n",
       "      <td>0</td>\n",
       "      <td>0.0</td>\n",
       "    </tr>\n",
       "    <tr>\n",
       "      <th>1</th>\n",
       "      <td>satisfied</td>\n",
       "      <td>Male</td>\n",
       "      <td>Loyal Customer</td>\n",
       "      <td>47</td>\n",
       "      <td>Personal Travel</td>\n",
       "      <td>Business</td>\n",
       "      <td>2464</td>\n",
       "      <td>0</td>\n",
       "      <td>0</td>\n",
       "      <td>0</td>\n",
       "      <td>...</td>\n",
       "      <td>2</td>\n",
       "      <td>3</td>\n",
       "      <td>4</td>\n",
       "      <td>4</td>\n",
       "      <td>4</td>\n",
       "      <td>2</td>\n",
       "      <td>3</td>\n",
       "      <td>2</td>\n",
       "      <td>310</td>\n",
       "      <td>305.0</td>\n",
       "    </tr>\n",
       "    <tr>\n",
       "      <th>2</th>\n",
       "      <td>satisfied</td>\n",
       "      <td>Female</td>\n",
       "      <td>Loyal Customer</td>\n",
       "      <td>15</td>\n",
       "      <td>Personal Travel</td>\n",
       "      <td>Eco</td>\n",
       "      <td>2138</td>\n",
       "      <td>0</td>\n",
       "      <td>0</td>\n",
       "      <td>0</td>\n",
       "      <td>...</td>\n",
       "      <td>2</td>\n",
       "      <td>2</td>\n",
       "      <td>3</td>\n",
       "      <td>3</td>\n",
       "      <td>4</td>\n",
       "      <td>4</td>\n",
       "      <td>4</td>\n",
       "      <td>2</td>\n",
       "      <td>0</td>\n",
       "      <td>0.0</td>\n",
       "    </tr>\n",
       "    <tr>\n",
       "      <th>3</th>\n",
       "      <td>satisfied</td>\n",
       "      <td>Female</td>\n",
       "      <td>Loyal Customer</td>\n",
       "      <td>60</td>\n",
       "      <td>Personal Travel</td>\n",
       "      <td>Eco</td>\n",
       "      <td>623</td>\n",
       "      <td>0</td>\n",
       "      <td>0</td>\n",
       "      <td>0</td>\n",
       "      <td>...</td>\n",
       "      <td>3</td>\n",
       "      <td>1</td>\n",
       "      <td>1</td>\n",
       "      <td>0</td>\n",
       "      <td>1</td>\n",
       "      <td>4</td>\n",
       "      <td>1</td>\n",
       "      <td>3</td>\n",
       "      <td>0</td>\n",
       "      <td>0.0</td>\n",
       "    </tr>\n",
       "    <tr>\n",
       "      <th>4</th>\n",
       "      <td>satisfied</td>\n",
       "      <td>Female</td>\n",
       "      <td>Loyal Customer</td>\n",
       "      <td>70</td>\n",
       "      <td>Personal Travel</td>\n",
       "      <td>Eco</td>\n",
       "      <td>354</td>\n",
       "      <td>0</td>\n",
       "      <td>0</td>\n",
       "      <td>0</td>\n",
       "      <td>...</td>\n",
       "      <td>4</td>\n",
       "      <td>2</td>\n",
       "      <td>2</td>\n",
       "      <td>0</td>\n",
       "      <td>2</td>\n",
       "      <td>4</td>\n",
       "      <td>2</td>\n",
       "      <td>5</td>\n",
       "      <td>0</td>\n",
       "      <td>0.0</td>\n",
       "    </tr>\n",
       "  </tbody>\n",
       "</table>\n",
       "<p>5 rows × 23 columns</p>\n",
       "</div>"
      ],
      "text/plain": [
       "  satisfaction  Gender   Customer Type  Age   Type of Travel     Class  \\\n",
       "0    satisfied  Female  Loyal Customer   65  Personal Travel       Eco   \n",
       "1    satisfied    Male  Loyal Customer   47  Personal Travel  Business   \n",
       "2    satisfied  Female  Loyal Customer   15  Personal Travel       Eco   \n",
       "3    satisfied  Female  Loyal Customer   60  Personal Travel       Eco   \n",
       "4    satisfied  Female  Loyal Customer   70  Personal Travel       Eco   \n",
       "\n",
       "   Flight Distance  Seat comfort  Departure/Arrival time convenient  \\\n",
       "0              265             0                                  0   \n",
       "1             2464             0                                  0   \n",
       "2             2138             0                                  0   \n",
       "3              623             0                                  0   \n",
       "4              354             0                                  0   \n",
       "\n",
       "   Food and drink  ...  Online support  Ease of Online booking  \\\n",
       "0               0  ...               2                       3   \n",
       "1               0  ...               2                       3   \n",
       "2               0  ...               2                       2   \n",
       "3               0  ...               3                       1   \n",
       "4               0  ...               4                       2   \n",
       "\n",
       "   On-board service  Leg room service  Baggage handling  Checkin service  \\\n",
       "0                 3                 0                 3                5   \n",
       "1                 4                 4                 4                2   \n",
       "2                 3                 3                 4                4   \n",
       "3                 1                 0                 1                4   \n",
       "4                 2                 0                 2                4   \n",
       "\n",
       "   Cleanliness  Online boarding  Departure Delay in Minutes  \\\n",
       "0            3                2                           0   \n",
       "1            3                2                         310   \n",
       "2            4                2                           0   \n",
       "3            1                3                           0   \n",
       "4            2                5                           0   \n",
       "\n",
       "   Arrival Delay in Minutes  \n",
       "0                       0.0  \n",
       "1                     305.0  \n",
       "2                       0.0  \n",
       "3                       0.0  \n",
       "4                       0.0  \n",
       "\n",
       "[5 rows x 23 columns]"
      ]
     },
     "execution_count": 7,
     "metadata": {},
     "output_type": "execute_result"
    }
   ],
   "source": [
    "df.head()"
   ]
  },
  {
   "cell_type": "code",
   "execution_count": 8,
   "id": "62b5ae0c-3533-427c-b560-bd7ac5019428",
   "metadata": {},
   "outputs": [
    {
     "name": "stdout",
     "output_type": "stream",
     "text": [
      "<class 'pandas.core.frame.DataFrame'>\n",
      "RangeIndex: 129880 entries, 0 to 129879\n",
      "Data columns (total 23 columns):\n",
      " #   Column                             Non-Null Count   Dtype  \n",
      "---  ------                             --------------   -----  \n",
      " 0   satisfaction                       129880 non-null  object \n",
      " 1   Gender                             129880 non-null  object \n",
      " 2   Customer Type                      129880 non-null  object \n",
      " 3   Age                                129880 non-null  int64  \n",
      " 4   Type of Travel                     129880 non-null  object \n",
      " 5   Class                              129880 non-null  object \n",
      " 6   Flight Distance                    129880 non-null  int64  \n",
      " 7   Seat comfort                       129880 non-null  int64  \n",
      " 8   Departure/Arrival time convenient  129880 non-null  int64  \n",
      " 9   Food and drink                     129880 non-null  int64  \n",
      " 10  Gate location                      129880 non-null  int64  \n",
      " 11  Inflight wifi service              129880 non-null  int64  \n",
      " 12  Inflight entertainment             129880 non-null  int64  \n",
      " 13  Online support                     129880 non-null  int64  \n",
      " 14  Ease of Online booking             129880 non-null  int64  \n",
      " 15  On-board service                   129880 non-null  int64  \n",
      " 16  Leg room service                   129880 non-null  int64  \n",
      " 17  Baggage handling                   129880 non-null  int64  \n",
      " 18  Checkin service                    129880 non-null  int64  \n",
      " 19  Cleanliness                        129880 non-null  int64  \n",
      " 20  Online boarding                    129880 non-null  int64  \n",
      " 21  Departure Delay in Minutes         129880 non-null  int64  \n",
      " 22  Arrival Delay in Minutes           129487 non-null  float64\n",
      "dtypes: float64(1), int64(17), object(5)\n",
      "memory usage: 22.8+ MB\n"
     ]
    }
   ],
   "source": [
    "#Column information\n",
    "df.info()"
   ]
  },
  {
   "cell_type": "code",
   "execution_count": 9,
   "id": "a407540b-8083-4244-8cc1-d208e637cc0e",
   "metadata": {},
   "outputs": [
    {
     "data": {
      "text/plain": [
       "(129880, 23)"
      ]
     },
     "execution_count": 9,
     "metadata": {},
     "output_type": "execute_result"
    }
   ],
   "source": [
    "df.shape"
   ]
  },
  {
   "cell_type": "code",
   "execution_count": 10,
   "id": "099e2df2-3fe0-44eb-83e8-70b65ed66b13",
   "metadata": {},
   "outputs": [
    {
     "data": {
      "text/plain": [
       "satisfaction                          object\n",
       "Gender                                object\n",
       "Customer Type                         object\n",
       "Age                                    int64\n",
       "Type of Travel                        object\n",
       "Class                                 object\n",
       "Flight Distance                        int64\n",
       "Seat comfort                           int64\n",
       "Departure/Arrival time convenient      int64\n",
       "Food and drink                         int64\n",
       "Gate location                          int64\n",
       "Inflight wifi service                  int64\n",
       "Inflight entertainment                 int64\n",
       "Online support                         int64\n",
       "Ease of Online booking                 int64\n",
       "On-board service                       int64\n",
       "Leg room service                       int64\n",
       "Baggage handling                       int64\n",
       "Checkin service                        int64\n",
       "Cleanliness                            int64\n",
       "Online boarding                        int64\n",
       "Departure Delay in Minutes             int64\n",
       "Arrival Delay in Minutes             float64\n",
       "dtype: object"
      ]
     },
     "execution_count": 10,
     "metadata": {},
     "output_type": "execute_result"
    }
   ],
   "source": [
    "df.dtypes"
   ]
  },
  {
   "cell_type": "code",
   "execution_count": 11,
   "id": "4c562b21-b05c-4cd4-874f-c1118e97a073",
   "metadata": {},
   "outputs": [
    {
     "data": {
      "text/html": [
       "<div>\n",
       "<style scoped>\n",
       "    .dataframe tbody tr th:only-of-type {\n",
       "        vertical-align: middle;\n",
       "    }\n",
       "\n",
       "    .dataframe tbody tr th {\n",
       "        vertical-align: top;\n",
       "    }\n",
       "\n",
       "    .dataframe thead th {\n",
       "        text-align: right;\n",
       "    }\n",
       "</style>\n",
       "<table border=\"1\" class=\"dataframe\">\n",
       "  <thead>\n",
       "    <tr style=\"text-align: right;\">\n",
       "      <th></th>\n",
       "      <th>satisfaction</th>\n",
       "      <th>Gender</th>\n",
       "      <th>Customer Type</th>\n",
       "      <th>Age</th>\n",
       "      <th>Type of Travel</th>\n",
       "      <th>Class</th>\n",
       "      <th>Flight Distance</th>\n",
       "      <th>Seat comfort</th>\n",
       "      <th>Departure/Arrival time convenient</th>\n",
       "      <th>Food and drink</th>\n",
       "      <th>...</th>\n",
       "      <th>Online support</th>\n",
       "      <th>Ease of Online booking</th>\n",
       "      <th>On-board service</th>\n",
       "      <th>Leg room service</th>\n",
       "      <th>Baggage handling</th>\n",
       "      <th>Checkin service</th>\n",
       "      <th>Cleanliness</th>\n",
       "      <th>Online boarding</th>\n",
       "      <th>Departure Delay in Minutes</th>\n",
       "      <th>Arrival Delay in Minutes</th>\n",
       "    </tr>\n",
       "  </thead>\n",
       "  <tbody>\n",
       "    <tr>\n",
       "      <th>count</th>\n",
       "      <td>129880</td>\n",
       "      <td>129880</td>\n",
       "      <td>129880</td>\n",
       "      <td>129880.000000</td>\n",
       "      <td>129880</td>\n",
       "      <td>129880</td>\n",
       "      <td>129880.000000</td>\n",
       "      <td>129880.000000</td>\n",
       "      <td>129880.000000</td>\n",
       "      <td>129880.000000</td>\n",
       "      <td>...</td>\n",
       "      <td>129880.000000</td>\n",
       "      <td>129880.000000</td>\n",
       "      <td>129880.000000</td>\n",
       "      <td>129880.000000</td>\n",
       "      <td>129880.000000</td>\n",
       "      <td>129880.000000</td>\n",
       "      <td>129880.000000</td>\n",
       "      <td>129880.000000</td>\n",
       "      <td>129880.000000</td>\n",
       "      <td>129487.000000</td>\n",
       "    </tr>\n",
       "    <tr>\n",
       "      <th>unique</th>\n",
       "      <td>2</td>\n",
       "      <td>2</td>\n",
       "      <td>2</td>\n",
       "      <td>NaN</td>\n",
       "      <td>2</td>\n",
       "      <td>3</td>\n",
       "      <td>NaN</td>\n",
       "      <td>NaN</td>\n",
       "      <td>NaN</td>\n",
       "      <td>NaN</td>\n",
       "      <td>...</td>\n",
       "      <td>NaN</td>\n",
       "      <td>NaN</td>\n",
       "      <td>NaN</td>\n",
       "      <td>NaN</td>\n",
       "      <td>NaN</td>\n",
       "      <td>NaN</td>\n",
       "      <td>NaN</td>\n",
       "      <td>NaN</td>\n",
       "      <td>NaN</td>\n",
       "      <td>NaN</td>\n",
       "    </tr>\n",
       "    <tr>\n",
       "      <th>top</th>\n",
       "      <td>satisfied</td>\n",
       "      <td>Female</td>\n",
       "      <td>Loyal Customer</td>\n",
       "      <td>NaN</td>\n",
       "      <td>Business travel</td>\n",
       "      <td>Business</td>\n",
       "      <td>NaN</td>\n",
       "      <td>NaN</td>\n",
       "      <td>NaN</td>\n",
       "      <td>NaN</td>\n",
       "      <td>...</td>\n",
       "      <td>NaN</td>\n",
       "      <td>NaN</td>\n",
       "      <td>NaN</td>\n",
       "      <td>NaN</td>\n",
       "      <td>NaN</td>\n",
       "      <td>NaN</td>\n",
       "      <td>NaN</td>\n",
       "      <td>NaN</td>\n",
       "      <td>NaN</td>\n",
       "      <td>NaN</td>\n",
       "    </tr>\n",
       "    <tr>\n",
       "      <th>freq</th>\n",
       "      <td>71087</td>\n",
       "      <td>65899</td>\n",
       "      <td>106100</td>\n",
       "      <td>NaN</td>\n",
       "      <td>89693</td>\n",
       "      <td>62160</td>\n",
       "      <td>NaN</td>\n",
       "      <td>NaN</td>\n",
       "      <td>NaN</td>\n",
       "      <td>NaN</td>\n",
       "      <td>...</td>\n",
       "      <td>NaN</td>\n",
       "      <td>NaN</td>\n",
       "      <td>NaN</td>\n",
       "      <td>NaN</td>\n",
       "      <td>NaN</td>\n",
       "      <td>NaN</td>\n",
       "      <td>NaN</td>\n",
       "      <td>NaN</td>\n",
       "      <td>NaN</td>\n",
       "      <td>NaN</td>\n",
       "    </tr>\n",
       "    <tr>\n",
       "      <th>mean</th>\n",
       "      <td>NaN</td>\n",
       "      <td>NaN</td>\n",
       "      <td>NaN</td>\n",
       "      <td>39.427957</td>\n",
       "      <td>NaN</td>\n",
       "      <td>NaN</td>\n",
       "      <td>1981.409055</td>\n",
       "      <td>2.838597</td>\n",
       "      <td>2.990645</td>\n",
       "      <td>2.851994</td>\n",
       "      <td>...</td>\n",
       "      <td>3.519703</td>\n",
       "      <td>3.472105</td>\n",
       "      <td>3.465075</td>\n",
       "      <td>3.485902</td>\n",
       "      <td>3.695673</td>\n",
       "      <td>3.340807</td>\n",
       "      <td>3.705759</td>\n",
       "      <td>3.352587</td>\n",
       "      <td>14.713713</td>\n",
       "      <td>15.091129</td>\n",
       "    </tr>\n",
       "    <tr>\n",
       "      <th>std</th>\n",
       "      <td>NaN</td>\n",
       "      <td>NaN</td>\n",
       "      <td>NaN</td>\n",
       "      <td>15.119360</td>\n",
       "      <td>NaN</td>\n",
       "      <td>NaN</td>\n",
       "      <td>1027.115606</td>\n",
       "      <td>1.392983</td>\n",
       "      <td>1.527224</td>\n",
       "      <td>1.443729</td>\n",
       "      <td>...</td>\n",
       "      <td>1.306511</td>\n",
       "      <td>1.305560</td>\n",
       "      <td>1.270836</td>\n",
       "      <td>1.292226</td>\n",
       "      <td>1.156483</td>\n",
       "      <td>1.260582</td>\n",
       "      <td>1.151774</td>\n",
       "      <td>1.298715</td>\n",
       "      <td>38.071126</td>\n",
       "      <td>38.465650</td>\n",
       "    </tr>\n",
       "    <tr>\n",
       "      <th>min</th>\n",
       "      <td>NaN</td>\n",
       "      <td>NaN</td>\n",
       "      <td>NaN</td>\n",
       "      <td>7.000000</td>\n",
       "      <td>NaN</td>\n",
       "      <td>NaN</td>\n",
       "      <td>50.000000</td>\n",
       "      <td>0.000000</td>\n",
       "      <td>0.000000</td>\n",
       "      <td>0.000000</td>\n",
       "      <td>...</td>\n",
       "      <td>0.000000</td>\n",
       "      <td>0.000000</td>\n",
       "      <td>0.000000</td>\n",
       "      <td>0.000000</td>\n",
       "      <td>1.000000</td>\n",
       "      <td>0.000000</td>\n",
       "      <td>0.000000</td>\n",
       "      <td>0.000000</td>\n",
       "      <td>0.000000</td>\n",
       "      <td>0.000000</td>\n",
       "    </tr>\n",
       "    <tr>\n",
       "      <th>25%</th>\n",
       "      <td>NaN</td>\n",
       "      <td>NaN</td>\n",
       "      <td>NaN</td>\n",
       "      <td>27.000000</td>\n",
       "      <td>NaN</td>\n",
       "      <td>NaN</td>\n",
       "      <td>1359.000000</td>\n",
       "      <td>2.000000</td>\n",
       "      <td>2.000000</td>\n",
       "      <td>2.000000</td>\n",
       "      <td>...</td>\n",
       "      <td>3.000000</td>\n",
       "      <td>2.000000</td>\n",
       "      <td>3.000000</td>\n",
       "      <td>2.000000</td>\n",
       "      <td>3.000000</td>\n",
       "      <td>3.000000</td>\n",
       "      <td>3.000000</td>\n",
       "      <td>2.000000</td>\n",
       "      <td>0.000000</td>\n",
       "      <td>0.000000</td>\n",
       "    </tr>\n",
       "    <tr>\n",
       "      <th>50%</th>\n",
       "      <td>NaN</td>\n",
       "      <td>NaN</td>\n",
       "      <td>NaN</td>\n",
       "      <td>40.000000</td>\n",
       "      <td>NaN</td>\n",
       "      <td>NaN</td>\n",
       "      <td>1925.000000</td>\n",
       "      <td>3.000000</td>\n",
       "      <td>3.000000</td>\n",
       "      <td>3.000000</td>\n",
       "      <td>...</td>\n",
       "      <td>4.000000</td>\n",
       "      <td>4.000000</td>\n",
       "      <td>4.000000</td>\n",
       "      <td>4.000000</td>\n",
       "      <td>4.000000</td>\n",
       "      <td>3.000000</td>\n",
       "      <td>4.000000</td>\n",
       "      <td>4.000000</td>\n",
       "      <td>0.000000</td>\n",
       "      <td>0.000000</td>\n",
       "    </tr>\n",
       "    <tr>\n",
       "      <th>75%</th>\n",
       "      <td>NaN</td>\n",
       "      <td>NaN</td>\n",
       "      <td>NaN</td>\n",
       "      <td>51.000000</td>\n",
       "      <td>NaN</td>\n",
       "      <td>NaN</td>\n",
       "      <td>2544.000000</td>\n",
       "      <td>4.000000</td>\n",
       "      <td>4.000000</td>\n",
       "      <td>4.000000</td>\n",
       "      <td>...</td>\n",
       "      <td>5.000000</td>\n",
       "      <td>5.000000</td>\n",
       "      <td>4.000000</td>\n",
       "      <td>5.000000</td>\n",
       "      <td>5.000000</td>\n",
       "      <td>4.000000</td>\n",
       "      <td>5.000000</td>\n",
       "      <td>4.000000</td>\n",
       "      <td>12.000000</td>\n",
       "      <td>13.000000</td>\n",
       "    </tr>\n",
       "    <tr>\n",
       "      <th>max</th>\n",
       "      <td>NaN</td>\n",
       "      <td>NaN</td>\n",
       "      <td>NaN</td>\n",
       "      <td>85.000000</td>\n",
       "      <td>NaN</td>\n",
       "      <td>NaN</td>\n",
       "      <td>6951.000000</td>\n",
       "      <td>5.000000</td>\n",
       "      <td>5.000000</td>\n",
       "      <td>5.000000</td>\n",
       "      <td>...</td>\n",
       "      <td>5.000000</td>\n",
       "      <td>5.000000</td>\n",
       "      <td>5.000000</td>\n",
       "      <td>5.000000</td>\n",
       "      <td>5.000000</td>\n",
       "      <td>5.000000</td>\n",
       "      <td>5.000000</td>\n",
       "      <td>5.000000</td>\n",
       "      <td>1592.000000</td>\n",
       "      <td>1584.000000</td>\n",
       "    </tr>\n",
       "  </tbody>\n",
       "</table>\n",
       "<p>11 rows × 23 columns</p>\n",
       "</div>"
      ],
      "text/plain": [
       "       satisfaction  Gender   Customer Type            Age   Type of Travel  \\\n",
       "count        129880  129880          129880  129880.000000           129880   \n",
       "unique            2       2               2            NaN                2   \n",
       "top       satisfied  Female  Loyal Customer            NaN  Business travel   \n",
       "freq          71087   65899          106100            NaN            89693   \n",
       "mean            NaN     NaN             NaN      39.427957              NaN   \n",
       "std             NaN     NaN             NaN      15.119360              NaN   \n",
       "min             NaN     NaN             NaN       7.000000              NaN   \n",
       "25%             NaN     NaN             NaN      27.000000              NaN   \n",
       "50%             NaN     NaN             NaN      40.000000              NaN   \n",
       "75%             NaN     NaN             NaN      51.000000              NaN   \n",
       "max             NaN     NaN             NaN      85.000000              NaN   \n",
       "\n",
       "           Class  Flight Distance   Seat comfort  \\\n",
       "count     129880    129880.000000  129880.000000   \n",
       "unique         3              NaN            NaN   \n",
       "top     Business              NaN            NaN   \n",
       "freq       62160              NaN            NaN   \n",
       "mean         NaN      1981.409055       2.838597   \n",
       "std          NaN      1027.115606       1.392983   \n",
       "min          NaN        50.000000       0.000000   \n",
       "25%          NaN      1359.000000       2.000000   \n",
       "50%          NaN      1925.000000       3.000000   \n",
       "75%          NaN      2544.000000       4.000000   \n",
       "max          NaN      6951.000000       5.000000   \n",
       "\n",
       "        Departure/Arrival time convenient  Food and drink  ...  \\\n",
       "count                       129880.000000   129880.000000  ...   \n",
       "unique                                NaN             NaN  ...   \n",
       "top                                   NaN             NaN  ...   \n",
       "freq                                  NaN             NaN  ...   \n",
       "mean                             2.990645        2.851994  ...   \n",
       "std                              1.527224        1.443729  ...   \n",
       "min                              0.000000        0.000000  ...   \n",
       "25%                              2.000000        2.000000  ...   \n",
       "50%                              3.000000        3.000000  ...   \n",
       "75%                              4.000000        4.000000  ...   \n",
       "max                              5.000000        5.000000  ...   \n",
       "\n",
       "        Online support  Ease of Online booking  On-board service  \\\n",
       "count    129880.000000           129880.000000     129880.000000   \n",
       "unique             NaN                     NaN               NaN   \n",
       "top                NaN                     NaN               NaN   \n",
       "freq               NaN                     NaN               NaN   \n",
       "mean          3.519703                3.472105          3.465075   \n",
       "std           1.306511                1.305560          1.270836   \n",
       "min           0.000000                0.000000          0.000000   \n",
       "25%           3.000000                2.000000          3.000000   \n",
       "50%           4.000000                4.000000          4.000000   \n",
       "75%           5.000000                5.000000          4.000000   \n",
       "max           5.000000                5.000000          5.000000   \n",
       "\n",
       "        Leg room service  Baggage handling  Checkin service    Cleanliness  \\\n",
       "count      129880.000000     129880.000000    129880.000000  129880.000000   \n",
       "unique               NaN               NaN              NaN            NaN   \n",
       "top                  NaN               NaN              NaN            NaN   \n",
       "freq                 NaN               NaN              NaN            NaN   \n",
       "mean            3.485902          3.695673         3.340807       3.705759   \n",
       "std             1.292226          1.156483         1.260582       1.151774   \n",
       "min             0.000000          1.000000         0.000000       0.000000   \n",
       "25%             2.000000          3.000000         3.000000       3.000000   \n",
       "50%             4.000000          4.000000         3.000000       4.000000   \n",
       "75%             5.000000          5.000000         4.000000       5.000000   \n",
       "max             5.000000          5.000000         5.000000       5.000000   \n",
       "\n",
       "        Online boarding  Departure Delay in Minutes  Arrival Delay in Minutes  \n",
       "count     129880.000000               129880.000000             129487.000000  \n",
       "unique              NaN                         NaN                       NaN  \n",
       "top                 NaN                         NaN                       NaN  \n",
       "freq                NaN                         NaN                       NaN  \n",
       "mean           3.352587                   14.713713                 15.091129  \n",
       "std            1.298715                   38.071126                 38.465650  \n",
       "min            0.000000                    0.000000                  0.000000  \n",
       "25%            2.000000                    0.000000                  0.000000  \n",
       "50%            4.000000                    0.000000                  0.000000  \n",
       "75%            4.000000                   12.000000                 13.000000  \n",
       "max            5.000000                 1592.000000               1584.000000  \n",
       "\n",
       "[11 rows x 23 columns]"
      ]
     },
     "execution_count": 11,
     "metadata": {},
     "output_type": "execute_result"
    }
   ],
   "source": [
    "#Now we can check the statistical information of the data\n",
    "df.describe(include='all')"
   ]
  },
  {
   "cell_type": "code",
   "execution_count": 12,
   "id": "aeac9546-46f5-411b-9596-d907c3070072",
   "metadata": {},
   "outputs": [
    {
     "data": {
      "text/plain": [
       "np.int64(0)"
      ]
     },
     "execution_count": 12,
     "metadata": {},
     "output_type": "execute_result"
    }
   ],
   "source": [
    "#checking whether dataset is having any duplicate values\n",
    "df.duplicated().sum()"
   ]
  },
  {
   "cell_type": "code",
   "execution_count": 13,
   "id": "fbe2fd14-0ee8-4b64-844b-0c006606f8d0",
   "metadata": {},
   "outputs": [
    {
     "data": {
      "text/plain": [
       "satisfaction                           0\n",
       "Gender                                 0\n",
       "Customer Type                          0\n",
       "Age                                    0\n",
       "Type of Travel                         0\n",
       "Class                                  0\n",
       "Flight Distance                        0\n",
       "Seat comfort                           0\n",
       "Departure/Arrival time convenient      0\n",
       "Food and drink                         0\n",
       "Gate location                          0\n",
       "Inflight wifi service                  0\n",
       "Inflight entertainment                 0\n",
       "Online support                         0\n",
       "Ease of Online booking                 0\n",
       "On-board service                       0\n",
       "Leg room service                       0\n",
       "Baggage handling                       0\n",
       "Checkin service                        0\n",
       "Cleanliness                            0\n",
       "Online boarding                        0\n",
       "Departure Delay in Minutes             0\n",
       "Arrival Delay in Minutes             393\n",
       "dtype: int64"
      ]
     },
     "execution_count": 13,
     "metadata": {},
     "output_type": "execute_result"
    }
   ],
   "source": [
    "#Checking whether the dataset is having any missing values\n",
    "df.isnull().sum()"
   ]
  },
  {
   "cell_type": "code",
   "execution_count": 14,
   "id": "67bf277a-2ddc-41d2-8c4f-097f02f2fe61",
   "metadata": {},
   "outputs": [],
   "source": [
    "#In the above data the feature \"Arrival Delay in Minutes\" have some null value so next we remove the null values.\n",
    "#we are removing null values using fillna.\n",
    "\n",
    "df['Arrival Delay in Minutes'] = df['Arrival Delay in Minutes'].fillna(df['Arrival Delay in Minutes'].mean())"
   ]
  },
  {
   "cell_type": "code",
   "execution_count": 15,
   "id": "36ea3f95-7bc8-4907-9e1d-c4fad6d1d9d0",
   "metadata": {},
   "outputs": [
    {
     "data": {
      "text/plain": [
       "satisfaction                         0\n",
       "Gender                               0\n",
       "Customer Type                        0\n",
       "Age                                  0\n",
       "Type of Travel                       0\n",
       "Class                                0\n",
       "Flight Distance                      0\n",
       "Seat comfort                         0\n",
       "Departure/Arrival time convenient    0\n",
       "Food and drink                       0\n",
       "Gate location                        0\n",
       "Inflight wifi service                0\n",
       "Inflight entertainment               0\n",
       "Online support                       0\n",
       "Ease of Online booking               0\n",
       "On-board service                     0\n",
       "Leg room service                     0\n",
       "Baggage handling                     0\n",
       "Checkin service                      0\n",
       "Cleanliness                          0\n",
       "Online boarding                      0\n",
       "Departure Delay in Minutes           0\n",
       "Arrival Delay in Minutes             0\n",
       "dtype: int64"
      ]
     },
     "execution_count": 15,
     "metadata": {},
     "output_type": "execute_result"
    }
   ],
   "source": [
    "df.isnull().sum()"
   ]
  },
  {
   "cell_type": "code",
   "execution_count": 16,
   "id": "aec9d891-98b1-409e-8383-fa2577649b47",
   "metadata": {},
   "outputs": [
    {
     "name": "stdout",
     "output_type": "stream",
     "text": [
      "['satisfied' 'dissatisfied'] satisfaction\n",
      "['Female' 'Male'] Gender\n",
      "['Loyal Customer' 'disloyal Customer'] Customer Type\n",
      "['Eco' 'Business' 'Eco Plus'] Class\n",
      "['Personal Travel' 'Business travel'] Type of Travel\n"
     ]
    }
   ],
   "source": [
    "#checking unique values\n",
    "features=['satisfaction','Gender','Customer Type','Class','Type of Travel']\n",
    "for i in features:\n",
    "    print(df[i].unique(),i)"
   ]
  },
  {
   "cell_type": "code",
   "execution_count": 17,
   "id": "4ce9c80e-5a15-459d-92cc-5d9133fc837b",
   "metadata": {},
   "outputs": [
    {
     "name": "stdout",
     "output_type": "stream",
     "text": [
      "satisfaction\n",
      "satisfied       71087\n",
      "dissatisfied    58793\n",
      "Name: count, dtype: int64\n",
      "Gender\n",
      "Female    65899\n",
      "Male      63981\n",
      "Name: count, dtype: int64\n",
      "Customer Type\n",
      "Loyal Customer       106100\n",
      "disloyal Customer     23780\n",
      "Name: count, dtype: int64\n",
      "Type of Travel\n",
      "Business travel    89693\n",
      "Personal Travel    40187\n",
      "Name: count, dtype: int64\n",
      "Class\n",
      "Business    62160\n",
      "Eco         58309\n",
      "Eco Plus     9411\n",
      "Name: count, dtype: int64\n"
     ]
    }
   ],
   "source": [
    "#Distribution of categorical variables\n",
    "categorical_columns=df.select_dtypes(include=['object'])\n",
    "for col in categorical_columns:\n",
    "    print(df[col].value_counts())"
   ]
  },
  {
   "cell_type": "code",
   "execution_count": 19,
   "id": "f2d7cad1-0d30-4fc2-8a81-50ae25213c96",
   "metadata": {},
   "outputs": [
    {
     "name": "stdout",
     "output_type": "stream",
     "text": [
      "Age\n",
      "39    3692\n",
      "25    3511\n",
      "40    3209\n",
      "44    3104\n",
      "41    3089\n",
      "      ... \n",
      "74      61\n",
      "76      60\n",
      "79      52\n",
      "78      44\n",
      "85      25\n",
      "Name: count, Length: 75, dtype: int64\n",
      "Flight Distance\n",
      "1963    92\n",
      "1812    88\n",
      "1639    87\n",
      "1789    86\n",
      "1981    86\n",
      "        ..\n",
      "5605     1\n",
      "5652     1\n",
      "4912     1\n",
      "5537     1\n",
      "5575     1\n",
      "Name: count, Length: 5398, dtype: int64\n",
      "Seat comfort\n",
      "3    29183\n",
      "2    28726\n",
      "4    28398\n",
      "1    20949\n",
      "5    17827\n",
      "0     4797\n",
      "Name: count, dtype: int64\n",
      "Departure/Arrival time convenient\n",
      "4    29593\n",
      "5    26817\n",
      "3    23184\n",
      "2    22794\n",
      "1    20828\n",
      "0     6664\n",
      "Name: count, dtype: int64\n",
      "Food and drink\n",
      "3    28150\n",
      "4    27216\n",
      "2    27146\n",
      "1    21076\n",
      "5    20347\n",
      "0     5945\n",
      "Name: count, dtype: int64\n",
      "Gate location\n",
      "3    33546\n",
      "4    30088\n",
      "2    24518\n",
      "1    22565\n",
      "5    19161\n",
      "0        2\n",
      "Name: count, dtype: int64\n",
      "Inflight wifi service\n",
      "4    31560\n",
      "5    28830\n",
      "3    27602\n",
      "2    27045\n",
      "1    14711\n",
      "0      132\n",
      "Name: count, dtype: int64\n",
      "Inflight entertainment\n",
      "4    41879\n",
      "5    29831\n",
      "3    24200\n",
      "2    19183\n",
      "1    11809\n",
      "0     2978\n",
      "Name: count, dtype: int64\n",
      "Online support\n",
      "4    41510\n",
      "5    35563\n",
      "3    21609\n",
      "2    17260\n",
      "1    13937\n",
      "0        1\n",
      "Name: count, dtype: int64\n",
      "Ease of Online booking\n",
      "4    39920\n",
      "5    34137\n",
      "3    22418\n",
      "2    19951\n",
      "1    13436\n",
      "0       18\n",
      "Name: count, dtype: int64\n",
      "On-board service\n",
      "4    40675\n",
      "5    31724\n",
      "3    27037\n",
      "2    17174\n",
      "1    13265\n",
      "0        5\n",
      "Name: count, dtype: int64\n",
      "Leg room service\n",
      "4    39698\n",
      "5    34385\n",
      "3    22467\n",
      "2    21745\n",
      "1    11141\n",
      "0      444\n",
      "Name: count, dtype: int64\n",
      "Baggage handling\n",
      "4    48240\n",
      "5    35748\n",
      "3    24485\n",
      "2    13432\n",
      "1     7975\n",
      "Name: count, dtype: int64\n",
      "Checkin service\n",
      "4    36481\n",
      "3    35538\n",
      "5    27005\n",
      "2    15486\n",
      "1    15369\n",
      "0        1\n",
      "Name: count, dtype: int64\n",
      "Cleanliness\n",
      "4    48795\n",
      "5    35916\n",
      "3    23984\n",
      "2    13412\n",
      "1     7768\n",
      "0        5\n",
      "Name: count, dtype: int64\n",
      "Online boarding\n",
      "4    35181\n",
      "3    30780\n",
      "5    29973\n",
      "2    18573\n",
      "1    15359\n",
      "0       14\n",
      "Name: count, dtype: int64\n",
      "Departure Delay in Minutes\n",
      "0      73356\n",
      "1       3682\n",
      "2       2855\n",
      "3       2535\n",
      "4       2309\n",
      "       ...  \n",
      "404        1\n",
      "624        1\n",
      "391        1\n",
      "465        1\n",
      "320        1\n",
      "Name: count, Length: 466, dtype: int64\n",
      "Arrival Delay in Minutes\n",
      "0.0       72753\n",
      "1.0        2747\n",
      "2.0        2587\n",
      "3.0        2442\n",
      "4.0        2373\n",
      "          ...  \n",
      "309.0         1\n",
      "1280.0        1\n",
      "360.0         1\n",
      "729.0         1\n",
      "500.0         1\n",
      "Name: count, Length: 473, dtype: int64\n"
     ]
    }
   ],
   "source": [
    "#Distribution of numerical variables\n",
    "numerical_columns=df.select_dtypes(include=['int','float'])\n",
    "for col in numerical_columns:\n",
    "    print(df[col].value_counts())"
   ]
  },
  {
   "cell_type": "markdown",
   "id": "e58a706e-866d-4691-a531-f5cfadcd8306",
   "metadata": {},
   "source": [
    "DATA VISUALIZATION"
   ]
  },
  {
   "cell_type": "code",
   "execution_count": 21,
   "id": "3b0e8cc1-cba6-475d-8d07-0fd212a5a32f",
   "metadata": {},
   "outputs": [
    {
     "data": {
      "image/png": "[encoded data removed]",
      "text/plain": [
       "<Figure size 800x600 with 1 Axes>"
      ]
     },
     "metadata": {},
     "output_type": "display_data"
    }
   ],
   "source": [
    "#Histoplot\n",
    "# Distribution of Age\n",
    "plt.figure(figsize=(8, 6))\n",
    "sns.histplot(data=df, x='Age',color='c')\n",
    "plt.title('Age Distribution')\n",
    "plt.show()"
   ]
  },
  {
   "cell_type": "markdown",
   "id": "69ffb9d4-546c-4e40-a538-70dff058825f",
   "metadata": {},
   "source": [
    "From the Age Distribution It is clear that most of the people in the dataset have the age 39 and 26."
   ]
  },
  {
   "cell_type": "code",
   "execution_count": 22,
   "id": "8ce10691-5fad-455a-9588-ee6635d51fe8",
   "metadata": {},
   "outputs": [
    {
     "data": {
      "image/png": "[encoded data removed]",
      "text/plain": [
       "<Figure size 500x600 with 1 Axes>"
      ]
     },
     "metadata": {},
     "output_type": "display_data"
    }
   ],
   "source": [
    "#Countplot\n",
    "plt.figure(figsize=(5,6))\n",
    "sns.countplot(x='Type of Travel',data=df)\n",
    "plt.title(\"Type of Travel\")\n",
    "plt.show()"
   ]
  },
  {
   "cell_type": "markdown",
   "id": "87c226af-df2a-4d53-ad28-f4c6e5df637b",
   "metadata": {},
   "source": [
    "Most of them are Business Travels"
   ]
  },
  {
   "cell_type": "code",
   "execution_count": 23,
   "id": "198d8e39-b44d-4dd3-a539-188ecaab4398",
   "metadata": {},
   "outputs": [
    {
     "data": {
      "image/png": "[encoded data removed]",
      "text/plain": [
       "<Figure size 1000x500 with 1 Axes>"
      ]
     },
     "metadata": {},
     "output_type": "display_data"
    }
   ],
   "source": [
    "#Scatter Plot\n",
    "plt.figure(figsize=(10,5))\n",
    "sns.scatterplot(x='Flight Distance',y='Departure Delay in Minutes',data=df,hue='satisfaction')\n",
    "plt.title('Flight Distance vs. Departure Delay')\n",
    "plt.show()"
   ]
  },
  {
   "cell_type": "markdown",
   "id": "f0662ce8-f61c-412d-9422-21bea4cef83b",
   "metadata": {},
   "source": [
    "When the flight distance is less than 1500 km, there is either no delay or the delay is relatively minimal compared to longer distances\n",
    ".As the delay increases for longer distances, the dissatisfaction among passengers also tends to rise."
   ]
  },
  {
   "cell_type": "code",
   "execution_count": 24,
   "id": "8703261a-f5a5-4e64-bed6-13e630281f97",
   "metadata": {},
   "outputs": [
    {
     "data": {
      "image/png": "[encoded data removed]",
      "text/plain": [
       "<Figure size 800x600 with 2 Axes>"
      ]
     },
     "metadata": {},
     "output_type": "display_data"
    }
   ],
   "source": [
    "#Heatmap\n",
    "#for Correlation heatmap we need to select numerical data variables from the dataset ['Age','Flight Distance','Departure Delay in Minutes','Arrival Delay in Minutes'],the all other features are the rating features.\n",
    "\n",
    "numerical_features=['Age','Flight Distance','Departure Delay in Minutes','Arrival Delay in Minutes']\n",
    "plt.figure(figsize=(8,6))\n",
    "correlation_matrix = df[numerical_features].corr()\n",
    "sns.heatmap(correlation_matrix,annot=True)\n",
    "plt.title('Correlation Heatmap')\n",
    "plt.show()\n"
   ]
  },
  {
   "cell_type": "markdown",
   "id": "a536c838-0577-483f-aec6-fedd6d8309e9",
   "metadata": {},
   "source": [
    " From the heatmap it is understood that there is a strong positive correlation betweeb Departure Delay and Arrival Delay.\n",
    "This means that if the flight is delay in depature it will affect the arrival also.\n",
    "\n",
    "Departure Delay column and the Arrival Delay column gives similar informations,so we can take one of these columns for further analysis."
   ]
  },
  {
   "cell_type": "code",
   "execution_count": 25,
   "id": "688c85c2-f5e1-49fe-a881-2a5267bee601",
   "metadata": {},
   "outputs": [
    {
     "data": {
      "image/png": "[encoded data removed]",
      "text/plain": [
       "<Figure size 500x300 with 1 Axes>"
      ]
     },
     "metadata": {},
     "output_type": "display_data"
    },
    {
     "data": {
      "image/png": "[encoded data removed]",
      "text/plain": [
       "<Figure size 500x300 with 1 Axes>"
      ]
     },
     "metadata": {},
     "output_type": "display_data"
    },
    {
     "data": {
      "image/png": "[encoded data removed]",
      "text/plain": [
       "<Figure size 500x300 with 1 Axes>"
      ]
     },
     "metadata": {},
     "output_type": "display_data"
    },
    {
     "data": {
      "image/png": "[encoded data removed]",
      "text/plain": [
       "<Figure size 500x300 with 1 Axes>"
      ]
     },
     "metadata": {},
     "output_type": "display_data"
    },
    {
     "data": {
      "image/png": "[encoded data removed]",
      "text/plain": [
       "<Figure size 500x300 with 1 Axes>"
      ]
     },
     "metadata": {},
     "output_type": "display_data"
    },
    {
     "data": {
      "image/png": "[encoded data removed]",
      "text/plain": [
       "<Figure size 500x300 with 1 Axes>"
      ]
     },
     "metadata": {},
     "output_type": "display_data"
    },
    {
     "data": {
      "image/png": "[encoded data removed]",
      "text/plain": [
       "<Figure size 500x300 with 1 Axes>"
      ]
     },
     "metadata": {},
     "output_type": "display_data"
    },
    {
     "data": {
      "image/png": "[encoded data removed]",
      "text/plain": [
       "<Figure size 500x300 with 1 Axes>"
      ]
     },
     "metadata": {},
     "output_type": "display_data"
    },
    {
     "data": {
      "image/png": "[encoded data removed]",
      "text/plain": [
       "<Figure size 500x300 with 1 Axes>"
      ]
     },
     "metadata": {},
     "output_type": "display_data"
    },
    {
     "data": {
      "image/png": "[encoded data removed]",
      "text/plain": [
       "<Figure size 500x300 with 1 Axes>"
      ]
     },
     "metadata": {},
     "output_type": "display_data"
    },
    {
     "data": {
      "image/png": "[encoded data removed]",
      "text/plain": [
       "<Figure size 500x300 with 1 Axes>"
      ]
     },
     "metadata": {},
     "output_type": "display_data"
    },
    {
     "data": {
      "image/png": "[encoded data removed]",
      "text/plain": [
       "<Figure size 500x300 with 1 Axes>"
      ]
     },
     "metadata": {},
     "output_type": "display_data"
    },
    {
     "data": {
      "image/png": "[encoded data removed]",
      "text/plain": [
       "<Figure size 500x300 with 1 Axes>"
      ]
     },
     "metadata": {},
     "output_type": "display_data"
    },
    {
     "data": {
      "image/png": "[encoded data removed]",
      "text/plain": [
       "<Figure size 500x300 with 1 Axes>"
      ]
     },
     "metadata": {},
     "output_type": "display_data"
    }
   ],
   "source": [
    "# Define the rating columns to visualize\n",
    "rating_columns = ['Seat comfort', 'Departure/Arrival time convenient','Food and drink',\n",
    "                  'Gate location','Inflight wifi service', 'Inflight entertainment','Online support', \n",
    "                  'Ease of Online booking','On-board service', 'Leg room service', 'Baggage handling', \n",
    "                  'Checkin service', 'Cleanliness','Online boarding']\n",
    "for c in rating_columns:\n",
    "    plt.figure(figsize=(5, 3))\n",
    "    sns.countplot(data=df, x=c, hue='satisfaction')\n",
    "    plt.title('Distribution of {}'.format(c))\n",
    "    plt.xlabel('Rating')\n",
    "    plt.ylabel('Count')\n",
    "    plt.show()"
   ]
  },
  {
   "cell_type": "markdown",
   "id": "c11629e2-d01f-46b8-bbae-6d2e87533eee",
   "metadata": {},
   "source": [
    " Customers provide higher ratings for factors such as seat comfort, food and drink,inflight entertainment, and other services, \n",
    " it is associated with a greater likelihood of satisfaction.\n",
    "\n",
    "This suggests that customers who express more positive evaluations for these services tend to have a more fulfilling overall experience."
   ]
  },
  {
   "cell_type": "code",
   "execution_count": 26,
   "id": "ce42be60-c36a-4370-944b-84e94cfd8525",
   "metadata": {},
   "outputs": [],
   "source": [
    "#Drop unnecessary columns\n",
    "# Drop the 'Arrival Delay in Minutes' column from the dataframe\n",
    "df=df.drop('Arrival Delay in Minutes', axis=1)"
   ]
  },
  {
   "cell_type": "code",
   "execution_count": 27,
   "id": "adf76274-9497-46f7-b4d2-b5c809ab9b19",
   "metadata": {},
   "outputs": [
    {
     "data": {
      "text/html": [
       "<div>\n",
       "<style scoped>\n",
       "    .dataframe tbody tr th:only-of-type {\n",
       "        vertical-align: middle;\n",
       "    }\n",
       "\n",
       "    .dataframe tbody tr th {\n",
       "        vertical-align: top;\n",
       "    }\n",
       "\n",
       "    .dataframe thead th {\n",
       "        text-align: right;\n",
       "    }\n",
       "</style>\n",
       "<table border=\"1\" class=\"dataframe\">\n",
       "  <thead>\n",
       "    <tr style=\"text-align: right;\">\n",
       "      <th></th>\n",
       "      <th>satisfaction</th>\n",
       "      <th>Age</th>\n",
       "      <th>Flight Distance</th>\n",
       "      <th>Seat comfort</th>\n",
       "      <th>Departure/Arrival time convenient</th>\n",
       "      <th>Food and drink</th>\n",
       "      <th>Gate location</th>\n",
       "      <th>Inflight wifi service</th>\n",
       "      <th>Inflight entertainment</th>\n",
       "      <th>Online support</th>\n",
       "      <th>...</th>\n",
       "      <th>Baggage handling</th>\n",
       "      <th>Checkin service</th>\n",
       "      <th>Cleanliness</th>\n",
       "      <th>Online boarding</th>\n",
       "      <th>Departure Delay in Minutes</th>\n",
       "      <th>Gender_Male</th>\n",
       "      <th>Customer Type_disloyal Customer</th>\n",
       "      <th>Class_Eco</th>\n",
       "      <th>Class_Eco Plus</th>\n",
       "      <th>Type of Travel_Personal Travel</th>\n",
       "    </tr>\n",
       "  </thead>\n",
       "  <tbody>\n",
       "    <tr>\n",
       "      <th>0</th>\n",
       "      <td>satisfied</td>\n",
       "      <td>65</td>\n",
       "      <td>265</td>\n",
       "      <td>0</td>\n",
       "      <td>0</td>\n",
       "      <td>0</td>\n",
       "      <td>2</td>\n",
       "      <td>2</td>\n",
       "      <td>4</td>\n",
       "      <td>2</td>\n",
       "      <td>...</td>\n",
       "      <td>3</td>\n",
       "      <td>5</td>\n",
       "      <td>3</td>\n",
       "      <td>2</td>\n",
       "      <td>0</td>\n",
       "      <td>False</td>\n",
       "      <td>False</td>\n",
       "      <td>True</td>\n",
       "      <td>False</td>\n",
       "      <td>True</td>\n",
       "    </tr>\n",
       "    <tr>\n",
       "      <th>1</th>\n",
       "      <td>satisfied</td>\n",
       "      <td>47</td>\n",
       "      <td>2464</td>\n",
       "      <td>0</td>\n",
       "      <td>0</td>\n",
       "      <td>0</td>\n",
       "      <td>3</td>\n",
       "      <td>0</td>\n",
       "      <td>2</td>\n",
       "      <td>2</td>\n",
       "      <td>...</td>\n",
       "      <td>4</td>\n",
       "      <td>2</td>\n",
       "      <td>3</td>\n",
       "      <td>2</td>\n",
       "      <td>310</td>\n",
       "      <td>True</td>\n",
       "      <td>False</td>\n",
       "      <td>False</td>\n",
       "      <td>False</td>\n",
       "      <td>True</td>\n",
       "    </tr>\n",
       "    <tr>\n",
       "      <th>2</th>\n",
       "      <td>satisfied</td>\n",
       "      <td>15</td>\n",
       "      <td>2138</td>\n",
       "      <td>0</td>\n",
       "      <td>0</td>\n",
       "      <td>0</td>\n",
       "      <td>3</td>\n",
       "      <td>2</td>\n",
       "      <td>0</td>\n",
       "      <td>2</td>\n",
       "      <td>...</td>\n",
       "      <td>4</td>\n",
       "      <td>4</td>\n",
       "      <td>4</td>\n",
       "      <td>2</td>\n",
       "      <td>0</td>\n",
       "      <td>False</td>\n",
       "      <td>False</td>\n",
       "      <td>True</td>\n",
       "      <td>False</td>\n",
       "      <td>True</td>\n",
       "    </tr>\n",
       "    <tr>\n",
       "      <th>3</th>\n",
       "      <td>satisfied</td>\n",
       "      <td>60</td>\n",
       "      <td>623</td>\n",
       "      <td>0</td>\n",
       "      <td>0</td>\n",
       "      <td>0</td>\n",
       "      <td>3</td>\n",
       "      <td>3</td>\n",
       "      <td>4</td>\n",
       "      <td>3</td>\n",
       "      <td>...</td>\n",
       "      <td>1</td>\n",
       "      <td>4</td>\n",
       "      <td>1</td>\n",
       "      <td>3</td>\n",
       "      <td>0</td>\n",
       "      <td>False</td>\n",
       "      <td>False</td>\n",
       "      <td>True</td>\n",
       "      <td>False</td>\n",
       "      <td>True</td>\n",
       "    </tr>\n",
       "    <tr>\n",
       "      <th>4</th>\n",
       "      <td>satisfied</td>\n",
       "      <td>70</td>\n",
       "      <td>354</td>\n",
       "      <td>0</td>\n",
       "      <td>0</td>\n",
       "      <td>0</td>\n",
       "      <td>3</td>\n",
       "      <td>4</td>\n",
       "      <td>3</td>\n",
       "      <td>4</td>\n",
       "      <td>...</td>\n",
       "      <td>2</td>\n",
       "      <td>4</td>\n",
       "      <td>2</td>\n",
       "      <td>5</td>\n",
       "      <td>0</td>\n",
       "      <td>False</td>\n",
       "      <td>False</td>\n",
       "      <td>True</td>\n",
       "      <td>False</td>\n",
       "      <td>True</td>\n",
       "    </tr>\n",
       "  </tbody>\n",
       "</table>\n",
       "<p>5 rows × 23 columns</p>\n",
       "</div>"
      ],
      "text/plain": [
       "  satisfaction  Age  Flight Distance  Seat comfort  \\\n",
       "0    satisfied   65              265             0   \n",
       "1    satisfied   47             2464             0   \n",
       "2    satisfied   15             2138             0   \n",
       "3    satisfied   60              623             0   \n",
       "4    satisfied   70              354             0   \n",
       "\n",
       "   Departure/Arrival time convenient  Food and drink  Gate location  \\\n",
       "0                                  0               0              2   \n",
       "1                                  0               0              3   \n",
       "2                                  0               0              3   \n",
       "3                                  0               0              3   \n",
       "4                                  0               0              3   \n",
       "\n",
       "   Inflight wifi service  Inflight entertainment  Online support  ...  \\\n",
       "0                      2                       4               2  ...   \n",
       "1                      0                       2               2  ...   \n",
       "2                      2                       0               2  ...   \n",
       "3                      3                       4               3  ...   \n",
       "4                      4                       3               4  ...   \n",
       "\n",
       "   Baggage handling  Checkin service  Cleanliness  Online boarding  \\\n",
       "0                 3                5            3                2   \n",
       "1                 4                2            3                2   \n",
       "2                 4                4            4                2   \n",
       "3                 1                4            1                3   \n",
       "4                 2                4            2                5   \n",
       "\n",
       "   Departure Delay in Minutes  Gender_Male  Customer Type_disloyal Customer  \\\n",
       "0                           0        False                            False   \n",
       "1                         310         True                            False   \n",
       "2                           0        False                            False   \n",
       "3                           0        False                            False   \n",
       "4                           0        False                            False   \n",
       "\n",
       "   Class_Eco  Class_Eco Plus  Type of Travel_Personal Travel  \n",
       "0       True           False                            True  \n",
       "1      False           False                            True  \n",
       "2       True           False                            True  \n",
       "3       True           False                            True  \n",
       "4       True           False                            True  \n",
       "\n",
       "[5 rows x 23 columns]"
      ]
     },
     "execution_count": 27,
     "metadata": {},
     "output_type": "execute_result"
    }
   ],
   "source": [
    "#Use one hot encode to convert the object type features into integer type\n",
    "data= pd.get_dummies(df,columns=['Gender','Customer Type','Class','Type of Travel'],drop_first=True)\n",
    "data.head()"
   ]
  },
  {
   "cell_type": "code",
   "execution_count": 28,
   "id": "129df40d-b3c4-4e84-9453-3e6ad3417bef",
   "metadata": {},
   "outputs": [
    {
     "data": {
      "text/html": [
       "<div>\n",
       "<style scoped>\n",
       "    .dataframe tbody tr th:only-of-type {\n",
       "        vertical-align: middle;\n",
       "    }\n",
       "\n",
       "    .dataframe tbody tr th {\n",
       "        vertical-align: top;\n",
       "    }\n",
       "\n",
       "    .dataframe thead th {\n",
       "        text-align: right;\n",
       "    }\n",
       "</style>\n",
       "<table border=\"1\" class=\"dataframe\">\n",
       "  <thead>\n",
       "    <tr style=\"text-align: right;\">\n",
       "      <th></th>\n",
       "      <th>satisfaction</th>\n",
       "      <th>Age</th>\n",
       "      <th>Flight Distance</th>\n",
       "      <th>Seat comfort</th>\n",
       "      <th>Departure/Arrival time convenient</th>\n",
       "      <th>Food and drink</th>\n",
       "      <th>Gate location</th>\n",
       "      <th>Inflight wifi service</th>\n",
       "      <th>Inflight entertainment</th>\n",
       "      <th>Online support</th>\n",
       "      <th>...</th>\n",
       "      <th>Baggage handling</th>\n",
       "      <th>Checkin service</th>\n",
       "      <th>Cleanliness</th>\n",
       "      <th>Online boarding</th>\n",
       "      <th>Departure Delay in Minutes</th>\n",
       "      <th>Gender_Male</th>\n",
       "      <th>Customer Type_disloyal Customer</th>\n",
       "      <th>Class_Eco</th>\n",
       "      <th>Class_Eco Plus</th>\n",
       "      <th>Type of Travel_Personal Travel</th>\n",
       "    </tr>\n",
       "  </thead>\n",
       "  <tbody>\n",
       "    <tr>\n",
       "      <th>0</th>\n",
       "      <td>1</td>\n",
       "      <td>65</td>\n",
       "      <td>265</td>\n",
       "      <td>0</td>\n",
       "      <td>0</td>\n",
       "      <td>0</td>\n",
       "      <td>2</td>\n",
       "      <td>2</td>\n",
       "      <td>4</td>\n",
       "      <td>2</td>\n",
       "      <td>...</td>\n",
       "      <td>3</td>\n",
       "      <td>5</td>\n",
       "      <td>3</td>\n",
       "      <td>2</td>\n",
       "      <td>0</td>\n",
       "      <td>False</td>\n",
       "      <td>False</td>\n",
       "      <td>True</td>\n",
       "      <td>False</td>\n",
       "      <td>True</td>\n",
       "    </tr>\n",
       "    <tr>\n",
       "      <th>1</th>\n",
       "      <td>1</td>\n",
       "      <td>47</td>\n",
       "      <td>2464</td>\n",
       "      <td>0</td>\n",
       "      <td>0</td>\n",
       "      <td>0</td>\n",
       "      <td>3</td>\n",
       "      <td>0</td>\n",
       "      <td>2</td>\n",
       "      <td>2</td>\n",
       "      <td>...</td>\n",
       "      <td>4</td>\n",
       "      <td>2</td>\n",
       "      <td>3</td>\n",
       "      <td>2</td>\n",
       "      <td>310</td>\n",
       "      <td>True</td>\n",
       "      <td>False</td>\n",
       "      <td>False</td>\n",
       "      <td>False</td>\n",
       "      <td>True</td>\n",
       "    </tr>\n",
       "    <tr>\n",
       "      <th>2</th>\n",
       "      <td>1</td>\n",
       "      <td>15</td>\n",
       "      <td>2138</td>\n",
       "      <td>0</td>\n",
       "      <td>0</td>\n",
       "      <td>0</td>\n",
       "      <td>3</td>\n",
       "      <td>2</td>\n",
       "      <td>0</td>\n",
       "      <td>2</td>\n",
       "      <td>...</td>\n",
       "      <td>4</td>\n",
       "      <td>4</td>\n",
       "      <td>4</td>\n",
       "      <td>2</td>\n",
       "      <td>0</td>\n",
       "      <td>False</td>\n",
       "      <td>False</td>\n",
       "      <td>True</td>\n",
       "      <td>False</td>\n",
       "      <td>True</td>\n",
       "    </tr>\n",
       "    <tr>\n",
       "      <th>3</th>\n",
       "      <td>1</td>\n",
       "      <td>60</td>\n",
       "      <td>623</td>\n",
       "      <td>0</td>\n",
       "      <td>0</td>\n",
       "      <td>0</td>\n",
       "      <td>3</td>\n",
       "      <td>3</td>\n",
       "      <td>4</td>\n",
       "      <td>3</td>\n",
       "      <td>...</td>\n",
       "      <td>1</td>\n",
       "      <td>4</td>\n",
       "      <td>1</td>\n",
       "      <td>3</td>\n",
       "      <td>0</td>\n",
       "      <td>False</td>\n",
       "      <td>False</td>\n",
       "      <td>True</td>\n",
       "      <td>False</td>\n",
       "      <td>True</td>\n",
       "    </tr>\n",
       "    <tr>\n",
       "      <th>4</th>\n",
       "      <td>1</td>\n",
       "      <td>70</td>\n",
       "      <td>354</td>\n",
       "      <td>0</td>\n",
       "      <td>0</td>\n",
       "      <td>0</td>\n",
       "      <td>3</td>\n",
       "      <td>4</td>\n",
       "      <td>3</td>\n",
       "      <td>4</td>\n",
       "      <td>...</td>\n",
       "      <td>2</td>\n",
       "      <td>4</td>\n",
       "      <td>2</td>\n",
       "      <td>5</td>\n",
       "      <td>0</td>\n",
       "      <td>False</td>\n",
       "      <td>False</td>\n",
       "      <td>True</td>\n",
       "      <td>False</td>\n",
       "      <td>True</td>\n",
       "    </tr>\n",
       "  </tbody>\n",
       "</table>\n",
       "<p>5 rows × 23 columns</p>\n",
       "</div>"
      ],
      "text/plain": [
       "   satisfaction  Age  Flight Distance  Seat comfort  \\\n",
       "0             1   65              265             0   \n",
       "1             1   47             2464             0   \n",
       "2             1   15             2138             0   \n",
       "3             1   60              623             0   \n",
       "4             1   70              354             0   \n",
       "\n",
       "   Departure/Arrival time convenient  Food and drink  Gate location  \\\n",
       "0                                  0               0              2   \n",
       "1                                  0               0              3   \n",
       "2                                  0               0              3   \n",
       "3                                  0               0              3   \n",
       "4                                  0               0              3   \n",
       "\n",
       "   Inflight wifi service  Inflight entertainment  Online support  ...  \\\n",
       "0                      2                       4               2  ...   \n",
       "1                      0                       2               2  ...   \n",
       "2                      2                       0               2  ...   \n",
       "3                      3                       4               3  ...   \n",
       "4                      4                       3               4  ...   \n",
       "\n",
       "   Baggage handling  Checkin service  Cleanliness  Online boarding  \\\n",
       "0                 3                5            3                2   \n",
       "1                 4                2            3                2   \n",
       "2                 4                4            4                2   \n",
       "3                 1                4            1                3   \n",
       "4                 2                4            2                5   \n",
       "\n",
       "   Departure Delay in Minutes  Gender_Male  Customer Type_disloyal Customer  \\\n",
       "0                           0        False                            False   \n",
       "1                         310         True                            False   \n",
       "2                           0        False                            False   \n",
       "3                           0        False                            False   \n",
       "4                           0        False                            False   \n",
       "\n",
       "   Class_Eco  Class_Eco Plus  Type of Travel_Personal Travel  \n",
       "0       True           False                            True  \n",
       "1      False           False                            True  \n",
       "2       True           False                            True  \n",
       "3       True           False                            True  \n",
       "4       True           False                            True  \n",
       "\n",
       "[5 rows x 23 columns]"
      ]
     },
     "execution_count": 28,
     "metadata": {},
     "output_type": "execute_result"
    }
   ],
   "source": [
    "#Use the LabelEncoder to the output column\n",
    "from sklearn.preprocessing import LabelEncoder\n",
    "le=LabelEncoder()\n",
    "data['satisfaction'] =le.fit_transform(df['satisfaction'])\n",
    "data.head()"
   ]
  },
  {
   "cell_type": "code",
   "execution_count": 29,
   "id": "da92ae21-a4f9-405d-951b-5acce4e000a1",
   "metadata": {},
   "outputs": [
    {
     "data": {
      "text/html": [
       "<div>\n",
       "<style scoped>\n",
       "    .dataframe tbody tr th:only-of-type {\n",
       "        vertical-align: middle;\n",
       "    }\n",
       "\n",
       "    .dataframe tbody tr th {\n",
       "        vertical-align: top;\n",
       "    }\n",
       "\n",
       "    .dataframe thead th {\n",
       "        text-align: right;\n",
       "    }\n",
       "</style>\n",
       "<table border=\"1\" class=\"dataframe\">\n",
       "  <thead>\n",
       "    <tr style=\"text-align: right;\">\n",
       "      <th></th>\n",
       "      <th>Age</th>\n",
       "      <th>Flight Distance</th>\n",
       "      <th>Seat comfort</th>\n",
       "      <th>Departure/Arrival time convenient</th>\n",
       "      <th>Food and drink</th>\n",
       "      <th>Gate location</th>\n",
       "      <th>Inflight wifi service</th>\n",
       "      <th>Inflight entertainment</th>\n",
       "      <th>Online support</th>\n",
       "      <th>Ease of Online booking</th>\n",
       "      <th>...</th>\n",
       "      <th>Baggage handling</th>\n",
       "      <th>Checkin service</th>\n",
       "      <th>Cleanliness</th>\n",
       "      <th>Online boarding</th>\n",
       "      <th>Departure Delay in Minutes</th>\n",
       "      <th>Gender_Male</th>\n",
       "      <th>Customer Type_disloyal Customer</th>\n",
       "      <th>Class_Eco</th>\n",
       "      <th>Class_Eco Plus</th>\n",
       "      <th>Type of Travel_Personal Travel</th>\n",
       "    </tr>\n",
       "  </thead>\n",
       "  <tbody>\n",
       "    <tr>\n",
       "      <th>0</th>\n",
       "      <td>65</td>\n",
       "      <td>265</td>\n",
       "      <td>0</td>\n",
       "      <td>0</td>\n",
       "      <td>0</td>\n",
       "      <td>2</td>\n",
       "      <td>2</td>\n",
       "      <td>4</td>\n",
       "      <td>2</td>\n",
       "      <td>3</td>\n",
       "      <td>...</td>\n",
       "      <td>3</td>\n",
       "      <td>5</td>\n",
       "      <td>3</td>\n",
       "      <td>2</td>\n",
       "      <td>0</td>\n",
       "      <td>False</td>\n",
       "      <td>False</td>\n",
       "      <td>True</td>\n",
       "      <td>False</td>\n",
       "      <td>True</td>\n",
       "    </tr>\n",
       "    <tr>\n",
       "      <th>1</th>\n",
       "      <td>47</td>\n",
       "      <td>2464</td>\n",
       "      <td>0</td>\n",
       "      <td>0</td>\n",
       "      <td>0</td>\n",
       "      <td>3</td>\n",
       "      <td>0</td>\n",
       "      <td>2</td>\n",
       "      <td>2</td>\n",
       "      <td>3</td>\n",
       "      <td>...</td>\n",
       "      <td>4</td>\n",
       "      <td>2</td>\n",
       "      <td>3</td>\n",
       "      <td>2</td>\n",
       "      <td>310</td>\n",
       "      <td>True</td>\n",
       "      <td>False</td>\n",
       "      <td>False</td>\n",
       "      <td>False</td>\n",
       "      <td>True</td>\n",
       "    </tr>\n",
       "    <tr>\n",
       "      <th>2</th>\n",
       "      <td>15</td>\n",
       "      <td>2138</td>\n",
       "      <td>0</td>\n",
       "      <td>0</td>\n",
       "      <td>0</td>\n",
       "      <td>3</td>\n",
       "      <td>2</td>\n",
       "      <td>0</td>\n",
       "      <td>2</td>\n",
       "      <td>2</td>\n",
       "      <td>...</td>\n",
       "      <td>4</td>\n",
       "      <td>4</td>\n",
       "      <td>4</td>\n",
       "      <td>2</td>\n",
       "      <td>0</td>\n",
       "      <td>False</td>\n",
       "      <td>False</td>\n",
       "      <td>True</td>\n",
       "      <td>False</td>\n",
       "      <td>True</td>\n",
       "    </tr>\n",
       "    <tr>\n",
       "      <th>3</th>\n",
       "      <td>60</td>\n",
       "      <td>623</td>\n",
       "      <td>0</td>\n",
       "      <td>0</td>\n",
       "      <td>0</td>\n",
       "      <td>3</td>\n",
       "      <td>3</td>\n",
       "      <td>4</td>\n",
       "      <td>3</td>\n",
       "      <td>1</td>\n",
       "      <td>...</td>\n",
       "      <td>1</td>\n",
       "      <td>4</td>\n",
       "      <td>1</td>\n",
       "      <td>3</td>\n",
       "      <td>0</td>\n",
       "      <td>False</td>\n",
       "      <td>False</td>\n",
       "      <td>True</td>\n",
       "      <td>False</td>\n",
       "      <td>True</td>\n",
       "    </tr>\n",
       "    <tr>\n",
       "      <th>4</th>\n",
       "      <td>70</td>\n",
       "      <td>354</td>\n",
       "      <td>0</td>\n",
       "      <td>0</td>\n",
       "      <td>0</td>\n",
       "      <td>3</td>\n",
       "      <td>4</td>\n",
       "      <td>3</td>\n",
       "      <td>4</td>\n",
       "      <td>2</td>\n",
       "      <td>...</td>\n",
       "      <td>2</td>\n",
       "      <td>4</td>\n",
       "      <td>2</td>\n",
       "      <td>5</td>\n",
       "      <td>0</td>\n",
       "      <td>False</td>\n",
       "      <td>False</td>\n",
       "      <td>True</td>\n",
       "      <td>False</td>\n",
       "      <td>True</td>\n",
       "    </tr>\n",
       "  </tbody>\n",
       "</table>\n",
       "<p>5 rows × 22 columns</p>\n",
       "</div>"
      ],
      "text/plain": [
       "   Age  Flight Distance  Seat comfort  Departure/Arrival time convenient  \\\n",
       "0   65              265             0                                  0   \n",
       "1   47             2464             0                                  0   \n",
       "2   15             2138             0                                  0   \n",
       "3   60              623             0                                  0   \n",
       "4   70              354             0                                  0   \n",
       "\n",
       "   Food and drink  Gate location  Inflight wifi service  \\\n",
       "0               0              2                      2   \n",
       "1               0              3                      0   \n",
       "2               0              3                      2   \n",
       "3               0              3                      3   \n",
       "4               0              3                      4   \n",
       "\n",
       "   Inflight entertainment  Online support  Ease of Online booking  ...  \\\n",
       "0                       4               2                       3  ...   \n",
       "1                       2               2                       3  ...   \n",
       "2                       0               2                       2  ...   \n",
       "3                       4               3                       1  ...   \n",
       "4                       3               4                       2  ...   \n",
       "\n",
       "   Baggage handling  Checkin service  Cleanliness  Online boarding  \\\n",
       "0                 3                5            3                2   \n",
       "1                 4                2            3                2   \n",
       "2                 4                4            4                2   \n",
       "3                 1                4            1                3   \n",
       "4                 2                4            2                5   \n",
       "\n",
       "   Departure Delay in Minutes  Gender_Male  Customer Type_disloyal Customer  \\\n",
       "0                           0        False                            False   \n",
       "1                         310         True                            False   \n",
       "2                           0        False                            False   \n",
       "3                           0        False                            False   \n",
       "4                           0        False                            False   \n",
       "\n",
       "   Class_Eco  Class_Eco Plus  Type of Travel_Personal Travel  \n",
       "0       True           False                            True  \n",
       "1      False           False                            True  \n",
       "2       True           False                            True  \n",
       "3       True           False                            True  \n",
       "4       True           False                            True  \n",
       "\n",
       "[5 rows x 22 columns]"
      ]
     },
     "execution_count": 29,
     "metadata": {},
     "output_type": "execute_result"
    }
   ],
   "source": [
    "# Split the dataframe into features (X) and target variable (y)\n",
    "x = data.drop(['satisfaction'],axis=1)\n",
    "y= data.satisfaction\n",
    "x.head()"
   ]
  },
  {
   "cell_type": "code",
   "execution_count": 30,
   "id": "c83b7801-d63e-43b0-9c94-ea01f5b53354",
   "metadata": {},
   "outputs": [
    {
     "data": {
      "text/html": [
       "<div>\n",
       "<style scoped>\n",
       "    .dataframe tbody tr th:only-of-type {\n",
       "        vertical-align: middle;\n",
       "    }\n",
       "\n",
       "    .dataframe tbody tr th {\n",
       "        vertical-align: top;\n",
       "    }\n",
       "\n",
       "    .dataframe thead th {\n",
       "        text-align: right;\n",
       "    }\n",
       "</style>\n",
       "<table border=\"1\" class=\"dataframe\">\n",
       "  <thead>\n",
       "    <tr style=\"text-align: right;\">\n",
       "      <th></th>\n",
       "      <th>Age</th>\n",
       "      <th>Flight Distance</th>\n",
       "      <th>Seat comfort</th>\n",
       "      <th>Departure/Arrival time convenient</th>\n",
       "      <th>Food and drink</th>\n",
       "      <th>Gate location</th>\n",
       "      <th>Inflight wifi service</th>\n",
       "      <th>Inflight entertainment</th>\n",
       "      <th>Online support</th>\n",
       "      <th>Ease of Online booking</th>\n",
       "      <th>...</th>\n",
       "      <th>Baggage handling</th>\n",
       "      <th>Checkin service</th>\n",
       "      <th>Cleanliness</th>\n",
       "      <th>Online boarding</th>\n",
       "      <th>Departure Delay in Minutes</th>\n",
       "      <th>Gender_Male</th>\n",
       "      <th>Customer Type_disloyal Customer</th>\n",
       "      <th>Class_Eco</th>\n",
       "      <th>Class_Eco Plus</th>\n",
       "      <th>Type of Travel_Personal Travel</th>\n",
       "    </tr>\n",
       "  </thead>\n",
       "  <tbody>\n",
       "    <tr>\n",
       "      <th>0</th>\n",
       "      <td>1.691351</td>\n",
       "      <td>-1.671103</td>\n",
       "      <td>0</td>\n",
       "      <td>0</td>\n",
       "      <td>0</td>\n",
       "      <td>2</td>\n",
       "      <td>2</td>\n",
       "      <td>4</td>\n",
       "      <td>2</td>\n",
       "      <td>3</td>\n",
       "      <td>...</td>\n",
       "      <td>3</td>\n",
       "      <td>5</td>\n",
       "      <td>3</td>\n",
       "      <td>2</td>\n",
       "      <td>-0.386481</td>\n",
       "      <td>False</td>\n",
       "      <td>False</td>\n",
       "      <td>True</td>\n",
       "      <td>False</td>\n",
       "      <td>True</td>\n",
       "    </tr>\n",
       "    <tr>\n",
       "      <th>1</th>\n",
       "      <td>0.500820</td>\n",
       "      <td>0.469852</td>\n",
       "      <td>0</td>\n",
       "      <td>0</td>\n",
       "      <td>0</td>\n",
       "      <td>3</td>\n",
       "      <td>0</td>\n",
       "      <td>2</td>\n",
       "      <td>2</td>\n",
       "      <td>3</td>\n",
       "      <td>...</td>\n",
       "      <td>4</td>\n",
       "      <td>2</td>\n",
       "      <td>3</td>\n",
       "      <td>2</td>\n",
       "      <td>7.756204</td>\n",
       "      <td>True</td>\n",
       "      <td>False</td>\n",
       "      <td>False</td>\n",
       "      <td>False</td>\n",
       "      <td>True</td>\n",
       "    </tr>\n",
       "    <tr>\n",
       "      <th>2</th>\n",
       "      <td>-1.615680</td>\n",
       "      <td>0.152458</td>\n",
       "      <td>0</td>\n",
       "      <td>0</td>\n",
       "      <td>0</td>\n",
       "      <td>3</td>\n",
       "      <td>2</td>\n",
       "      <td>0</td>\n",
       "      <td>2</td>\n",
       "      <td>2</td>\n",
       "      <td>...</td>\n",
       "      <td>4</td>\n",
       "      <td>4</td>\n",
       "      <td>4</td>\n",
       "      <td>2</td>\n",
       "      <td>-0.386481</td>\n",
       "      <td>False</td>\n",
       "      <td>False</td>\n",
       "      <td>True</td>\n",
       "      <td>False</td>\n",
       "      <td>True</td>\n",
       "    </tr>\n",
       "    <tr>\n",
       "      <th>3</th>\n",
       "      <td>1.360648</td>\n",
       "      <td>-1.322552</td>\n",
       "      <td>0</td>\n",
       "      <td>0</td>\n",
       "      <td>0</td>\n",
       "      <td>3</td>\n",
       "      <td>3</td>\n",
       "      <td>4</td>\n",
       "      <td>3</td>\n",
       "      <td>1</td>\n",
       "      <td>...</td>\n",
       "      <td>1</td>\n",
       "      <td>4</td>\n",
       "      <td>1</td>\n",
       "      <td>3</td>\n",
       "      <td>-0.386481</td>\n",
       "      <td>False</td>\n",
       "      <td>False</td>\n",
       "      <td>True</td>\n",
       "      <td>False</td>\n",
       "      <td>True</td>\n",
       "    </tr>\n",
       "    <tr>\n",
       "      <th>4</th>\n",
       "      <td>2.022054</td>\n",
       "      <td>-1.584452</td>\n",
       "      <td>0</td>\n",
       "      <td>0</td>\n",
       "      <td>0</td>\n",
       "      <td>3</td>\n",
       "      <td>4</td>\n",
       "      <td>3</td>\n",
       "      <td>4</td>\n",
       "      <td>2</td>\n",
       "      <td>...</td>\n",
       "      <td>2</td>\n",
       "      <td>4</td>\n",
       "      <td>2</td>\n",
       "      <td>5</td>\n",
       "      <td>-0.386481</td>\n",
       "      <td>False</td>\n",
       "      <td>False</td>\n",
       "      <td>True</td>\n",
       "      <td>False</td>\n",
       "      <td>True</td>\n",
       "    </tr>\n",
       "  </tbody>\n",
       "</table>\n",
       "<p>5 rows × 22 columns</p>\n",
       "</div>"
      ],
      "text/plain": [
       "        Age  Flight Distance  Seat comfort  Departure/Arrival time convenient  \\\n",
       "0  1.691351        -1.671103             0                                  0   \n",
       "1  0.500820         0.469852             0                                  0   \n",
       "2 -1.615680         0.152458             0                                  0   \n",
       "3  1.360648        -1.322552             0                                  0   \n",
       "4  2.022054        -1.584452             0                                  0   \n",
       "\n",
       "   Food and drink  Gate location  Inflight wifi service  \\\n",
       "0               0              2                      2   \n",
       "1               0              3                      0   \n",
       "2               0              3                      2   \n",
       "3               0              3                      3   \n",
       "4               0              3                      4   \n",
       "\n",
       "   Inflight entertainment  Online support  Ease of Online booking  ...  \\\n",
       "0                       4               2                       3  ...   \n",
       "1                       2               2                       3  ...   \n",
       "2                       0               2                       2  ...   \n",
       "3                       4               3                       1  ...   \n",
       "4                       3               4                       2  ...   \n",
       "\n",
       "   Baggage handling  Checkin service  Cleanliness  Online boarding  \\\n",
       "0                 3                5            3                2   \n",
       "1                 4                2            3                2   \n",
       "2                 4                4            4                2   \n",
       "3                 1                4            1                3   \n",
       "4                 2                4            2                5   \n",
       "\n",
       "   Departure Delay in Minutes  Gender_Male  Customer Type_disloyal Customer  \\\n",
       "0                   -0.386481        False                            False   \n",
       "1                    7.756204         True                            False   \n",
       "2                   -0.386481        False                            False   \n",
       "3                   -0.386481        False                            False   \n",
       "4                   -0.386481        False                            False   \n",
       "\n",
       "   Class_Eco  Class_Eco Plus  Type of Travel_Personal Travel  \n",
       "0       True           False                            True  \n",
       "1      False           False                            True  \n",
       "2       True           False                            True  \n",
       "3       True           False                            True  \n",
       "4       True           False                            True  \n",
       "\n",
       "[5 rows x 22 columns]"
      ]
     },
     "execution_count": 30,
     "metadata": {},
     "output_type": "execute_result"
    }
   ],
   "source": [
    "from sklearn.preprocessing import StandardScaler\n",
    "std= StandardScaler()\n",
    "selected_features = x[[\"Age\", \"Flight Distance\", \"Departure Delay in Minutes\"]]\n",
    "std.fit(selected_features)\n",
    "s = std.transform(selected_features)\n",
    "x[[\"Age\", \"Flight Distance\", \"Departure Delay in Minutes\"]]=s\n",
    "x.head()   "
   ]
  },
  {
   "cell_type": "code",
   "execution_count": 31,
   "id": "b884c721-fca4-4f1e-9d9b-a6d59ca599ef",
   "metadata": {},
   "outputs": [
    {
     "data": {
      "text/plain": [
       "(103904, 22)"
      ]
     },
     "execution_count": 31,
     "metadata": {},
     "output_type": "execute_result"
    }
   ],
   "source": [
    "from sklearn.model_selection import train_test_split\n",
    "x_train,x_test,y_train,y_test=train_test_split(x,y,test_size=.20,random_state=0)\n",
    "x_train.shape"
   ]
  },
  {
   "cell_type": "code",
   "execution_count": 32,
   "id": "c359664e-416f-490f-bcdd-f390469011ae",
   "metadata": {},
   "outputs": [
    {
     "data": {
      "text/plain": [
       "(25976, 22)"
      ]
     },
     "execution_count": 32,
     "metadata": {},
     "output_type": "execute_result"
    }
   ],
   "source": [
    "x_test.shape"
   ]
  },
  {
   "cell_type": "code",
   "execution_count": 33,
   "id": "97066dec-56e1-4725-a6e3-a6ce339aef06",
   "metadata": {},
   "outputs": [
    {
     "data": {
      "text/html": [
       "<div>\n",
       "<style scoped>\n",
       "    .dataframe tbody tr th:only-of-type {\n",
       "        vertical-align: middle;\n",
       "    }\n",
       "\n",
       "    .dataframe tbody tr th {\n",
       "        vertical-align: top;\n",
       "    }\n",
       "\n",
       "    .dataframe thead th {\n",
       "        text-align: right;\n",
       "    }\n",
       "</style>\n",
       "<table border=\"1\" class=\"dataframe\">\n",
       "  <thead>\n",
       "    <tr style=\"text-align: right;\">\n",
       "      <th></th>\n",
       "      <th>Age</th>\n",
       "      <th>Flight Distance</th>\n",
       "      <th>Seat comfort</th>\n",
       "      <th>Departure/Arrival time convenient</th>\n",
       "      <th>Food and drink</th>\n",
       "      <th>Gate location</th>\n",
       "      <th>Inflight wifi service</th>\n",
       "      <th>Inflight entertainment</th>\n",
       "      <th>Online support</th>\n",
       "      <th>Ease of Online booking</th>\n",
       "      <th>...</th>\n",
       "      <th>Baggage handling</th>\n",
       "      <th>Checkin service</th>\n",
       "      <th>Cleanliness</th>\n",
       "      <th>Online boarding</th>\n",
       "      <th>Departure Delay in Minutes</th>\n",
       "      <th>Gender_Male</th>\n",
       "      <th>Customer Type_disloyal Customer</th>\n",
       "      <th>Class_Eco</th>\n",
       "      <th>Class_Eco Plus</th>\n",
       "      <th>Type of Travel_Personal Travel</th>\n",
       "    </tr>\n",
       "  </thead>\n",
       "  <tbody>\n",
       "    <tr>\n",
       "      <th>24986</th>\n",
       "      <td>0.236257</td>\n",
       "      <td>-1.856087</td>\n",
       "      <td>1</td>\n",
       "      <td>1</td>\n",
       "      <td>1</td>\n",
       "      <td>1</td>\n",
       "      <td>5</td>\n",
       "      <td>5</td>\n",
       "      <td>5</td>\n",
       "      <td>5</td>\n",
       "      <td>...</td>\n",
       "      <td>5</td>\n",
       "      <td>5</td>\n",
       "      <td>5</td>\n",
       "      <td>5</td>\n",
       "      <td>-0.386481</td>\n",
       "      <td>False</td>\n",
       "      <td>False</td>\n",
       "      <td>True</td>\n",
       "      <td>False</td>\n",
       "      <td>True</td>\n",
       "    </tr>\n",
       "    <tr>\n",
       "      <th>52096</th>\n",
       "      <td>-0.954274</td>\n",
       "      <td>-0.814331</td>\n",
       "      <td>3</td>\n",
       "      <td>2</td>\n",
       "      <td>3</td>\n",
       "      <td>4</td>\n",
       "      <td>4</td>\n",
       "      <td>3</td>\n",
       "      <td>4</td>\n",
       "      <td>4</td>\n",
       "      <td>...</td>\n",
       "      <td>4</td>\n",
       "      <td>1</td>\n",
       "      <td>3</td>\n",
       "      <td>4</td>\n",
       "      <td>0.243920</td>\n",
       "      <td>False</td>\n",
       "      <td>True</td>\n",
       "      <td>True</td>\n",
       "      <td>False</td>\n",
       "      <td>False</td>\n",
       "    </tr>\n",
       "    <tr>\n",
       "      <th>114671</th>\n",
       "      <td>0.963804</td>\n",
       "      <td>0.291683</td>\n",
       "      <td>5</td>\n",
       "      <td>5</td>\n",
       "      <td>5</td>\n",
       "      <td>5</td>\n",
       "      <td>5</td>\n",
       "      <td>5</td>\n",
       "      <td>4</td>\n",
       "      <td>5</td>\n",
       "      <td>...</td>\n",
       "      <td>5</td>\n",
       "      <td>5</td>\n",
       "      <td>5</td>\n",
       "      <td>3</td>\n",
       "      <td>-0.386481</td>\n",
       "      <td>True</td>\n",
       "      <td>False</td>\n",
       "      <td>False</td>\n",
       "      <td>False</td>\n",
       "      <td>False</td>\n",
       "    </tr>\n",
       "    <tr>\n",
       "      <th>76726</th>\n",
       "      <td>-0.028305</td>\n",
       "      <td>1.438588</td>\n",
       "      <td>2</td>\n",
       "      <td>5</td>\n",
       "      <td>5</td>\n",
       "      <td>5</td>\n",
       "      <td>5</td>\n",
       "      <td>4</td>\n",
       "      <td>3</td>\n",
       "      <td>2</td>\n",
       "      <td>...</td>\n",
       "      <td>2</td>\n",
       "      <td>3</td>\n",
       "      <td>2</td>\n",
       "      <td>3</td>\n",
       "      <td>-0.386481</td>\n",
       "      <td>False</td>\n",
       "      <td>False</td>\n",
       "      <td>False</td>\n",
       "      <td>False</td>\n",
       "      <td>False</td>\n",
       "    </tr>\n",
       "    <tr>\n",
       "      <th>89451</th>\n",
       "      <td>0.236257</td>\n",
       "      <td>0.460116</td>\n",
       "      <td>5</td>\n",
       "      <td>5</td>\n",
       "      <td>5</td>\n",
       "      <td>5</td>\n",
       "      <td>2</td>\n",
       "      <td>3</td>\n",
       "      <td>5</td>\n",
       "      <td>4</td>\n",
       "      <td>...</td>\n",
       "      <td>4</td>\n",
       "      <td>5</td>\n",
       "      <td>4</td>\n",
       "      <td>3</td>\n",
       "      <td>0.848055</td>\n",
       "      <td>True</td>\n",
       "      <td>False</td>\n",
       "      <td>False</td>\n",
       "      <td>False</td>\n",
       "      <td>False</td>\n",
       "    </tr>\n",
       "    <tr>\n",
       "      <th>...</th>\n",
       "      <td>...</td>\n",
       "      <td>...</td>\n",
       "      <td>...</td>\n",
       "      <td>...</td>\n",
       "      <td>...</td>\n",
       "      <td>...</td>\n",
       "      <td>...</td>\n",
       "      <td>...</td>\n",
       "      <td>...</td>\n",
       "      <td>...</td>\n",
       "      <td>...</td>\n",
       "      <td>...</td>\n",
       "      <td>...</td>\n",
       "      <td>...</td>\n",
       "      <td>...</td>\n",
       "      <td>...</td>\n",
       "      <td>...</td>\n",
       "      <td>...</td>\n",
       "      <td>...</td>\n",
       "      <td>...</td>\n",
       "      <td>...</td>\n",
       "    </tr>\n",
       "    <tr>\n",
       "      <th>45891</th>\n",
       "      <td>0.368538</td>\n",
       "      <td>-0.114310</td>\n",
       "      <td>2</td>\n",
       "      <td>2</td>\n",
       "      <td>2</td>\n",
       "      <td>1</td>\n",
       "      <td>5</td>\n",
       "      <td>2</td>\n",
       "      <td>5</td>\n",
       "      <td>5</td>\n",
       "      <td>...</td>\n",
       "      <td>5</td>\n",
       "      <td>4</td>\n",
       "      <td>5</td>\n",
       "      <td>5</td>\n",
       "      <td>0.664188</td>\n",
       "      <td>True</td>\n",
       "      <td>True</td>\n",
       "      <td>False</td>\n",
       "      <td>False</td>\n",
       "      <td>False</td>\n",
       "    </tr>\n",
       "    <tr>\n",
       "      <th>117952</th>\n",
       "      <td>0.831523</td>\n",
       "      <td>-0.925322</td>\n",
       "      <td>3</td>\n",
       "      <td>3</td>\n",
       "      <td>3</td>\n",
       "      <td>3</td>\n",
       "      <td>5</td>\n",
       "      <td>4</td>\n",
       "      <td>5</td>\n",
       "      <td>5</td>\n",
       "      <td>...</td>\n",
       "      <td>5</td>\n",
       "      <td>5</td>\n",
       "      <td>5</td>\n",
       "      <td>5</td>\n",
       "      <td>-0.386481</td>\n",
       "      <td>False</td>\n",
       "      <td>False</td>\n",
       "      <td>False</td>\n",
       "      <td>False</td>\n",
       "      <td>False</td>\n",
       "    </tr>\n",
       "    <tr>\n",
       "      <th>42613</th>\n",
       "      <td>0.500820</td>\n",
       "      <td>0.111566</td>\n",
       "      <td>1</td>\n",
       "      <td>1</td>\n",
       "      <td>1</td>\n",
       "      <td>3</td>\n",
       "      <td>2</td>\n",
       "      <td>1</td>\n",
       "      <td>2</td>\n",
       "      <td>2</td>\n",
       "      <td>...</td>\n",
       "      <td>3</td>\n",
       "      <td>2</td>\n",
       "      <td>4</td>\n",
       "      <td>2</td>\n",
       "      <td>0.270187</td>\n",
       "      <td>False</td>\n",
       "      <td>True</td>\n",
       "      <td>True</td>\n",
       "      <td>False</td>\n",
       "      <td>False</td>\n",
       "    </tr>\n",
       "    <tr>\n",
       "      <th>43567</th>\n",
       "      <td>-0.094446</td>\n",
       "      <td>0.135906</td>\n",
       "      <td>1</td>\n",
       "      <td>2</td>\n",
       "      <td>1</td>\n",
       "      <td>3</td>\n",
       "      <td>2</td>\n",
       "      <td>1</td>\n",
       "      <td>2</td>\n",
       "      <td>2</td>\n",
       "      <td>...</td>\n",
       "      <td>4</td>\n",
       "      <td>2</td>\n",
       "      <td>3</td>\n",
       "      <td>2</td>\n",
       "      <td>-0.386481</td>\n",
       "      <td>True</td>\n",
       "      <td>True</td>\n",
       "      <td>True</td>\n",
       "      <td>False</td>\n",
       "      <td>False</td>\n",
       "    </tr>\n",
       "    <tr>\n",
       "      <th>68268</th>\n",
       "      <td>-1.020415</td>\n",
       "      <td>3.123897</td>\n",
       "      <td>1</td>\n",
       "      <td>5</td>\n",
       "      <td>5</td>\n",
       "      <td>5</td>\n",
       "      <td>1</td>\n",
       "      <td>1</td>\n",
       "      <td>1</td>\n",
       "      <td>1</td>\n",
       "      <td>...</td>\n",
       "      <td>3</td>\n",
       "      <td>3</td>\n",
       "      <td>4</td>\n",
       "      <td>1</td>\n",
       "      <td>-0.255147</td>\n",
       "      <td>True</td>\n",
       "      <td>False</td>\n",
       "      <td>False</td>\n",
       "      <td>False</td>\n",
       "      <td>False</td>\n",
       "    </tr>\n",
       "  </tbody>\n",
       "</table>\n",
       "<p>103904 rows × 22 columns</p>\n",
       "</div>"
      ],
      "text/plain": [
       "             Age  Flight Distance  Seat comfort  \\\n",
       "24986   0.236257        -1.856087             1   \n",
       "52096  -0.954274        -0.814331             3   \n",
       "114671  0.963804         0.291683             5   \n",
       "76726  -0.028305         1.438588             2   \n",
       "89451   0.236257         0.460116             5   \n",
       "...          ...              ...           ...   \n",
       "45891   0.368538        -0.114310             2   \n",
       "117952  0.831523        -0.925322             3   \n",
       "42613   0.500820         0.111566             1   \n",
       "43567  -0.094446         0.135906             1   \n",
       "68268  -1.020415         3.123897             1   \n",
       "\n",
       "        Departure/Arrival time convenient  Food and drink  Gate location  \\\n",
       "24986                                   1               1              1   \n",
       "52096                                   2               3              4   \n",
       "114671                                  5               5              5   \n",
       "76726                                   5               5              5   \n",
       "89451                                   5               5              5   \n",
       "...                                   ...             ...            ...   \n",
       "45891                                   2               2              1   \n",
       "117952                                  3               3              3   \n",
       "42613                                   1               1              3   \n",
       "43567                                   2               1              3   \n",
       "68268                                   5               5              5   \n",
       "\n",
       "        Inflight wifi service  Inflight entertainment  Online support  \\\n",
       "24986                       5                       5               5   \n",
       "52096                       4                       3               4   \n",
       "114671                      5                       5               4   \n",
       "76726                       5                       4               3   \n",
       "89451                       2                       3               5   \n",
       "...                       ...                     ...             ...   \n",
       "45891                       5                       2               5   \n",
       "117952                      5                       4               5   \n",
       "42613                       2                       1               2   \n",
       "43567                       2                       1               2   \n",
       "68268                       1                       1               1   \n",
       "\n",
       "        Ease of Online booking  ...  Baggage handling  Checkin service  \\\n",
       "24986                        5  ...                 5                5   \n",
       "52096                        4  ...                 4                1   \n",
       "114671                       5  ...                 5                5   \n",
       "76726                        2  ...                 2                3   \n",
       "89451                        4  ...                 4                5   \n",
       "...                        ...  ...               ...              ...   \n",
       "45891                        5  ...                 5                4   \n",
       "117952                       5  ...                 5                5   \n",
       "42613                        2  ...                 3                2   \n",
       "43567                        2  ...                 4                2   \n",
       "68268                        1  ...                 3                3   \n",
       "\n",
       "        Cleanliness  Online boarding  Departure Delay in Minutes  Gender_Male  \\\n",
       "24986             5                5                   -0.386481        False   \n",
       "52096             3                4                    0.243920        False   \n",
       "114671            5                3                   -0.386481         True   \n",
       "76726             2                3                   -0.386481        False   \n",
       "89451             4                3                    0.848055         True   \n",
       "...             ...              ...                         ...          ...   \n",
       "45891             5                5                    0.664188         True   \n",
       "117952            5                5                   -0.386481        False   \n",
       "42613             4                2                    0.270187        False   \n",
       "43567             3                2                   -0.386481         True   \n",
       "68268             4                1                   -0.255147         True   \n",
       "\n",
       "        Customer Type_disloyal Customer  Class_Eco  Class_Eco Plus  \\\n",
       "24986                             False       True           False   \n",
       "52096                              True       True           False   \n",
       "114671                            False      False           False   \n",
       "76726                             False      False           False   \n",
       "89451                             False      False           False   \n",
       "...                                 ...        ...             ...   \n",
       "45891                              True      False           False   \n",
       "117952                            False      False           False   \n",
       "42613                              True       True           False   \n",
       "43567                              True       True           False   \n",
       "68268                             False      False           False   \n",
       "\n",
       "        Type of Travel_Personal Travel  \n",
       "24986                             True  \n",
       "52096                            False  \n",
       "114671                           False  \n",
       "76726                            False  \n",
       "89451                            False  \n",
       "...                                ...  \n",
       "45891                            False  \n",
       "117952                           False  \n",
       "42613                            False  \n",
       "43567                            False  \n",
       "68268                            False  \n",
       "\n",
       "[103904 rows x 22 columns]"
      ]
     },
     "execution_count": 33,
     "metadata": {},
     "output_type": "execute_result"
    }
   ],
   "source": [
    "x_train"
   ]
  },
  {
   "cell_type": "code",
   "execution_count": 34,
   "id": "698347c9-ec1e-4131-a00d-f5d88872f191",
   "metadata": {},
   "outputs": [
    {
     "data": {
      "text/html": [
       "<div>\n",
       "<style scoped>\n",
       "    .dataframe tbody tr th:only-of-type {\n",
       "        vertical-align: middle;\n",
       "    }\n",
       "\n",
       "    .dataframe tbody tr th {\n",
       "        vertical-align: top;\n",
       "    }\n",
       "\n",
       "    .dataframe thead th {\n",
       "        text-align: right;\n",
       "    }\n",
       "</style>\n",
       "<table border=\"1\" class=\"dataframe\">\n",
       "  <thead>\n",
       "    <tr style=\"text-align: right;\">\n",
       "      <th></th>\n",
       "      <th>Age</th>\n",
       "      <th>Flight Distance</th>\n",
       "      <th>Seat comfort</th>\n",
       "      <th>Departure/Arrival time convenient</th>\n",
       "      <th>Food and drink</th>\n",
       "      <th>Gate location</th>\n",
       "      <th>Inflight wifi service</th>\n",
       "      <th>Inflight entertainment</th>\n",
       "      <th>Online support</th>\n",
       "      <th>Ease of Online booking</th>\n",
       "      <th>...</th>\n",
       "      <th>Baggage handling</th>\n",
       "      <th>Checkin service</th>\n",
       "      <th>Cleanliness</th>\n",
       "      <th>Online boarding</th>\n",
       "      <th>Departure Delay in Minutes</th>\n",
       "      <th>Gender_Male</th>\n",
       "      <th>Customer Type_disloyal Customer</th>\n",
       "      <th>Class_Eco</th>\n",
       "      <th>Class_Eco Plus</th>\n",
       "      <th>Type of Travel_Personal Travel</th>\n",
       "    </tr>\n",
       "  </thead>\n",
       "  <tbody>\n",
       "    <tr>\n",
       "      <th>125669</th>\n",
       "      <td>0.699242</td>\n",
       "      <td>-0.745205</td>\n",
       "      <td>5</td>\n",
       "      <td>3</td>\n",
       "      <td>3</td>\n",
       "      <td>3</td>\n",
       "      <td>5</td>\n",
       "      <td>5</td>\n",
       "      <td>5</td>\n",
       "      <td>5</td>\n",
       "      <td>...</td>\n",
       "      <td>1</td>\n",
       "      <td>2</td>\n",
       "      <td>3</td>\n",
       "      <td>5</td>\n",
       "      <td>-0.386481</td>\n",
       "      <td>True</td>\n",
       "      <td>False</td>\n",
       "      <td>False</td>\n",
       "      <td>True</td>\n",
       "      <td>False</td>\n",
       "    </tr>\n",
       "    <tr>\n",
       "      <th>90648</th>\n",
       "      <td>0.699242</td>\n",
       "      <td>-1.084019</td>\n",
       "      <td>4</td>\n",
       "      <td>4</td>\n",
       "      <td>4</td>\n",
       "      <td>4</td>\n",
       "      <td>2</td>\n",
       "      <td>5</td>\n",
       "      <td>5</td>\n",
       "      <td>4</td>\n",
       "      <td>...</td>\n",
       "      <td>4</td>\n",
       "      <td>2</td>\n",
       "      <td>4</td>\n",
       "      <td>5</td>\n",
       "      <td>-0.386481</td>\n",
       "      <td>True</td>\n",
       "      <td>False</td>\n",
       "      <td>False</td>\n",
       "      <td>False</td>\n",
       "      <td>False</td>\n",
       "    </tr>\n",
       "    <tr>\n",
       "      <th>45322</th>\n",
       "      <td>-0.160587</td>\n",
       "      <td>-0.623505</td>\n",
       "      <td>2</td>\n",
       "      <td>1</td>\n",
       "      <td>1</td>\n",
       "      <td>2</td>\n",
       "      <td>4</td>\n",
       "      <td>1</td>\n",
       "      <td>4</td>\n",
       "      <td>4</td>\n",
       "      <td>...</td>\n",
       "      <td>5</td>\n",
       "      <td>5</td>\n",
       "      <td>5</td>\n",
       "      <td>4</td>\n",
       "      <td>-0.386481</td>\n",
       "      <td>False</td>\n",
       "      <td>True</td>\n",
       "      <td>False</td>\n",
       "      <td>False</td>\n",
       "      <td>False</td>\n",
       "    </tr>\n",
       "    <tr>\n",
       "      <th>64084</th>\n",
       "      <td>0.037835</td>\n",
       "      <td>-1.667208</td>\n",
       "      <td>0</td>\n",
       "      <td>0</td>\n",
       "      <td>0</td>\n",
       "      <td>2</td>\n",
       "      <td>4</td>\n",
       "      <td>5</td>\n",
       "      <td>4</td>\n",
       "      <td>4</td>\n",
       "      <td>...</td>\n",
       "      <td>4</td>\n",
       "      <td>3</td>\n",
       "      <td>4</td>\n",
       "      <td>4</td>\n",
       "      <td>0.138853</td>\n",
       "      <td>True</td>\n",
       "      <td>False</td>\n",
       "      <td>False</td>\n",
       "      <td>False</td>\n",
       "      <td>False</td>\n",
       "    </tr>\n",
       "    <tr>\n",
       "      <th>71595</th>\n",
       "      <td>-0.094446</td>\n",
       "      <td>1.437615</td>\n",
       "      <td>2</td>\n",
       "      <td>1</td>\n",
       "      <td>1</td>\n",
       "      <td>1</td>\n",
       "      <td>1</td>\n",
       "      <td>2</td>\n",
       "      <td>2</td>\n",
       "      <td>2</td>\n",
       "      <td>...</td>\n",
       "      <td>2</td>\n",
       "      <td>1</td>\n",
       "      <td>2</td>\n",
       "      <td>2</td>\n",
       "      <td>-0.386481</td>\n",
       "      <td>False</td>\n",
       "      <td>False</td>\n",
       "      <td>False</td>\n",
       "      <td>False</td>\n",
       "      <td>False</td>\n",
       "    </tr>\n",
       "    <tr>\n",
       "      <th>...</th>\n",
       "      <td>...</td>\n",
       "      <td>...</td>\n",
       "      <td>...</td>\n",
       "      <td>...</td>\n",
       "      <td>...</td>\n",
       "      <td>...</td>\n",
       "      <td>...</td>\n",
       "      <td>...</td>\n",
       "      <td>...</td>\n",
       "      <td>...</td>\n",
       "      <td>...</td>\n",
       "      <td>...</td>\n",
       "      <td>...</td>\n",
       "      <td>...</td>\n",
       "      <td>...</td>\n",
       "      <td>...</td>\n",
       "      <td>...</td>\n",
       "      <td>...</td>\n",
       "      <td>...</td>\n",
       "      <td>...</td>\n",
       "      <td>...</td>\n",
       "    </tr>\n",
       "    <tr>\n",
       "      <th>52679</th>\n",
       "      <td>0.633101</td>\n",
       "      <td>-0.374262</td>\n",
       "      <td>3</td>\n",
       "      <td>3</td>\n",
       "      <td>3</td>\n",
       "      <td>2</td>\n",
       "      <td>1</td>\n",
       "      <td>3</td>\n",
       "      <td>1</td>\n",
       "      <td>1</td>\n",
       "      <td>...</td>\n",
       "      <td>3</td>\n",
       "      <td>4</td>\n",
       "      <td>2</td>\n",
       "      <td>1</td>\n",
       "      <td>-0.333948</td>\n",
       "      <td>True</td>\n",
       "      <td>True</td>\n",
       "      <td>False</td>\n",
       "      <td>True</td>\n",
       "      <td>False</td>\n",
       "    </tr>\n",
       "    <tr>\n",
       "      <th>95042</th>\n",
       "      <td>0.699242</td>\n",
       "      <td>-1.307948</td>\n",
       "      <td>4</td>\n",
       "      <td>4</td>\n",
       "      <td>2</td>\n",
       "      <td>4</td>\n",
       "      <td>4</td>\n",
       "      <td>4</td>\n",
       "      <td>5</td>\n",
       "      <td>4</td>\n",
       "      <td>...</td>\n",
       "      <td>4</td>\n",
       "      <td>3</td>\n",
       "      <td>4</td>\n",
       "      <td>5</td>\n",
       "      <td>-0.386481</td>\n",
       "      <td>False</td>\n",
       "      <td>False</td>\n",
       "      <td>False</td>\n",
       "      <td>False</td>\n",
       "      <td>False</td>\n",
       "    </tr>\n",
       "    <tr>\n",
       "      <th>16588</th>\n",
       "      <td>-0.028305</td>\n",
       "      <td>0.010311</td>\n",
       "      <td>2</td>\n",
       "      <td>5</td>\n",
       "      <td>2</td>\n",
       "      <td>1</td>\n",
       "      <td>5</td>\n",
       "      <td>2</td>\n",
       "      <td>5</td>\n",
       "      <td>5</td>\n",
       "      <td>...</td>\n",
       "      <td>2</td>\n",
       "      <td>2</td>\n",
       "      <td>5</td>\n",
       "      <td>5</td>\n",
       "      <td>0.033787</td>\n",
       "      <td>True</td>\n",
       "      <td>False</td>\n",
       "      <td>True</td>\n",
       "      <td>False</td>\n",
       "      <td>True</td>\n",
       "    </tr>\n",
       "    <tr>\n",
       "      <th>98261</th>\n",
       "      <td>1.029945</td>\n",
       "      <td>1.759878</td>\n",
       "      <td>5</td>\n",
       "      <td>5</td>\n",
       "      <td>5</td>\n",
       "      <td>5</td>\n",
       "      <td>4</td>\n",
       "      <td>5</td>\n",
       "      <td>5</td>\n",
       "      <td>4</td>\n",
       "      <td>...</td>\n",
       "      <td>4</td>\n",
       "      <td>5</td>\n",
       "      <td>4</td>\n",
       "      <td>4</td>\n",
       "      <td>-0.281414</td>\n",
       "      <td>False</td>\n",
       "      <td>False</td>\n",
       "      <td>False</td>\n",
       "      <td>False</td>\n",
       "      <td>False</td>\n",
       "    </tr>\n",
       "    <tr>\n",
       "      <th>19790</th>\n",
       "      <td>0.897663</td>\n",
       "      <td>0.962496</td>\n",
       "      <td>2</td>\n",
       "      <td>5</td>\n",
       "      <td>3</td>\n",
       "      <td>4</td>\n",
       "      <td>4</td>\n",
       "      <td>3</td>\n",
       "      <td>3</td>\n",
       "      <td>4</td>\n",
       "      <td>...</td>\n",
       "      <td>5</td>\n",
       "      <td>4</td>\n",
       "      <td>4</td>\n",
       "      <td>4</td>\n",
       "      <td>-0.018747</td>\n",
       "      <td>True</td>\n",
       "      <td>False</td>\n",
       "      <td>True</td>\n",
       "      <td>False</td>\n",
       "      <td>True</td>\n",
       "    </tr>\n",
       "  </tbody>\n",
       "</table>\n",
       "<p>25976 rows × 22 columns</p>\n",
       "</div>"
      ],
      "text/plain": [
       "             Age  Flight Distance  Seat comfort  \\\n",
       "125669  0.699242        -0.745205             5   \n",
       "90648   0.699242        -1.084019             4   \n",
       "45322  -0.160587        -0.623505             2   \n",
       "64084   0.037835        -1.667208             0   \n",
       "71595  -0.094446         1.437615             2   \n",
       "...          ...              ...           ...   \n",
       "52679   0.633101        -0.374262             3   \n",
       "95042   0.699242        -1.307948             4   \n",
       "16588  -0.028305         0.010311             2   \n",
       "98261   1.029945         1.759878             5   \n",
       "19790   0.897663         0.962496             2   \n",
       "\n",
       "        Departure/Arrival time convenient  Food and drink  Gate location  \\\n",
       "125669                                  3               3              3   \n",
       "90648                                   4               4              4   \n",
       "45322                                   1               1              2   \n",
       "64084                                   0               0              2   \n",
       "71595                                   1               1              1   \n",
       "...                                   ...             ...            ...   \n",
       "52679                                   3               3              2   \n",
       "95042                                   4               2              4   \n",
       "16588                                   5               2              1   \n",
       "98261                                   5               5              5   \n",
       "19790                                   5               3              4   \n",
       "\n",
       "        Inflight wifi service  Inflight entertainment  Online support  \\\n",
       "125669                      5                       5               5   \n",
       "90648                       2                       5               5   \n",
       "45322                       4                       1               4   \n",
       "64084                       4                       5               4   \n",
       "71595                       1                       2               2   \n",
       "...                       ...                     ...             ...   \n",
       "52679                       1                       3               1   \n",
       "95042                       4                       4               5   \n",
       "16588                       5                       2               5   \n",
       "98261                       4                       5               5   \n",
       "19790                       4                       3               3   \n",
       "\n",
       "        Ease of Online booking  ...  Baggage handling  Checkin service  \\\n",
       "125669                       5  ...                 1                2   \n",
       "90648                        4  ...                 4                2   \n",
       "45322                        4  ...                 5                5   \n",
       "64084                        4  ...                 4                3   \n",
       "71595                        2  ...                 2                1   \n",
       "...                        ...  ...               ...              ...   \n",
       "52679                        1  ...                 3                4   \n",
       "95042                        4  ...                 4                3   \n",
       "16588                        5  ...                 2                2   \n",
       "98261                        4  ...                 4                5   \n",
       "19790                        4  ...                 5                4   \n",
       "\n",
       "        Cleanliness  Online boarding  Departure Delay in Minutes  Gender_Male  \\\n",
       "125669            3                5                   -0.386481         True   \n",
       "90648             4                5                   -0.386481         True   \n",
       "45322             5                4                   -0.386481        False   \n",
       "64084             4                4                    0.138853         True   \n",
       "71595             2                2                   -0.386481        False   \n",
       "...             ...              ...                         ...          ...   \n",
       "52679             2                1                   -0.333948         True   \n",
       "95042             4                5                   -0.386481        False   \n",
       "16588             5                5                    0.033787         True   \n",
       "98261             4                4                   -0.281414        False   \n",
       "19790             4                4                   -0.018747         True   \n",
       "\n",
       "        Customer Type_disloyal Customer  Class_Eco  Class_Eco Plus  \\\n",
       "125669                            False      False            True   \n",
       "90648                             False      False           False   \n",
       "45322                              True      False           False   \n",
       "64084                             False      False           False   \n",
       "71595                             False      False           False   \n",
       "...                                 ...        ...             ...   \n",
       "52679                              True      False            True   \n",
       "95042                             False      False           False   \n",
       "16588                             False       True           False   \n",
       "98261                             False      False           False   \n",
       "19790                             False       True           False   \n",
       "\n",
       "        Type of Travel_Personal Travel  \n",
       "125669                           False  \n",
       "90648                            False  \n",
       "45322                            False  \n",
       "64084                            False  \n",
       "71595                            False  \n",
       "...                                ...  \n",
       "52679                            False  \n",
       "95042                            False  \n",
       "16588                             True  \n",
       "98261                            False  \n",
       "19790                             True  \n",
       "\n",
       "[25976 rows x 22 columns]"
      ]
     },
     "execution_count": 34,
     "metadata": {},
     "output_type": "execute_result"
    }
   ],
   "source": [
    "x_test"
   ]
  },
  {
   "cell_type": "markdown",
   "id": "0a382867-6133-4e91-97a8-11f8aad42c17",
   "metadata": {},
   "source": [
    "MODEL TRAINING\n",
    "\n",
    "Classification Algorithms\n",
    "\n",
    "1. Naive Bayes\n",
    "2. Decision Tree\n",
    "3. Random Forest\n",
    "4. Ada Boost\n",
    "5. XG Boost\n",
    "6. Logistic Regression"
   ]
  },
  {
   "cell_type": "code",
   "execution_count": 35,
   "id": "91916072-3eb9-49ea-970c-deb4b7b3c242",
   "metadata": {},
   "outputs": [],
   "source": [
    "\n",
    "from sklearn.naive_bayes import GaussianNB\n",
    "from sklearn.naive_bayes import BernoulliNB\n",
    "from sklearn.svm import SVC\n",
    "from sklearn.tree import DecisionTreeClassifier\n",
    "from sklearn.ensemble import RandomForestClassifier\n",
    "from sklearn.ensemble import AdaBoostClassifier\n",
    "from xgboost import XGBClassifier\n",
    "from sklearn.linear_model import LogisticRegression\n"
   ]
  },
  {
   "cell_type": "markdown",
   "id": "5de903c4-88ca-41a8-997f-f659807e5347",
   "metadata": {},
   "source": [
    " Naive Bayes:GaussianNB\n",
    " "
   ]
  },
  {
   "cell_type": "code",
   "execution_count": 36,
   "id": "b1213271-9cb2-4e4b-aac3-f2261602c396",
   "metadata": {},
   "outputs": [
    {
     "data": {
      "text/plain": [
       "array([1, 1, 1, ..., 1, 1, 1], shape=(25976,))"
      ]
     },
     "execution_count": 36,
     "metadata": {},
     "output_type": "execute_result"
    }
   ],
   "source": [
    "nb = GaussianNB()\n",
    "nb.fit(x_train,y_train)\n",
    "y_pred2=nb.predict(x_test)\n",
    "y_pred2"
   ]
  },
  {
   "cell_type": "code",
   "execution_count": 37,
   "id": "dfa013cc-5e33-4c1c-b3d2-9007a08a3be1",
   "metadata": {},
   "outputs": [
    {
     "name": "stdout",
     "output_type": "stream",
     "text": [
      "[[ 9359  2327]\n",
      " [ 2480 11810]]\n"
     ]
    },
    {
     "data": {
      "text/plain": [
       "<sklearn.metrics._plot.confusion_matrix.ConfusionMatrixDisplay at 0x29552ceb110>"
      ]
     },
     "execution_count": 37,
     "metadata": {},
     "output_type": "execute_result"
    },
    {
     "data": {
      "image/png": "[encoded data removed]",
      "text/plain": [
       "<Figure size 640x480 with 2 Axes>"
      ]
     },
     "metadata": {},
     "output_type": "display_data"
    }
   ],
   "source": [
    "#confusion matrix\n",
    "from sklearn.metrics import confusion_matrix,ConfusionMatrixDisplay\n",
    "result = confusion_matrix(y_test,y_pred2)\n",
    "print(result)\n",
    "labels=[0,1]\n",
    "cmd = ConfusionMatrixDisplay(result,display_labels=labels)\n",
    "cmd.plot()\n"
   ]
  },
  {
   "cell_type": "code",
   "execution_count": 38,
   "id": "ee59e88a-1322-43a1-b749-5c6063ec1f7f",
   "metadata": {},
   "outputs": [
    {
     "name": "stdout",
     "output_type": "stream",
     "text": [
      "Accuracy:  81.49445642131198 \n",
      "\n",
      "              precision    recall  f1-score   support\n",
      "\n",
      "           0       0.79      0.80      0.80     11686\n",
      "           1       0.84      0.83      0.83     14290\n",
      "\n",
      "    accuracy                           0.81     25976\n",
      "   macro avg       0.81      0.81      0.81     25976\n",
      "weighted avg       0.82      0.81      0.82     25976\n",
      "\n"
     ]
    },
    {
     "data": {
      "text/plain": [
       "0.8213158299969202"
      ]
     },
     "execution_count": 38,
     "metadata": {},
     "output_type": "execute_result"
    }
   ],
   "source": [
    "\n",
    "# Accuracy score and classification report\n",
    "from sklearn.metrics import accuracy_score,classification_report\n",
    "print('Accuracy: ',accuracy_score(y_test,y_pred2)*100,'\\n')\n",
    "print(classification_report(y_test,y_pred2))\n",
    "\n",
    "training_score= nb.score(x_train,y_train)\n",
    "training_score\n"
   ]
  },
  {
   "cell_type": "markdown",
   "id": "be516068-55b7-4f0e-91c4-9f4b50e00cb1",
   "metadata": {},
   "source": [
    " Naive Bayes:BernoulliNB"
   ]
  },
  {
   "cell_type": "code",
   "execution_count": 39,
   "id": "ed7be723-b187-4841-9718-4ff19d203007",
   "metadata": {},
   "outputs": [
    {
     "data": {
      "text/plain": [
       "array([1, 1, 0, ..., 0, 1, 0], shape=(25976,))"
      ]
     },
     "execution_count": 39,
     "metadata": {},
     "output_type": "execute_result"
    }
   ],
   "source": [
    "nb_model2=BernoulliNB()\n",
    "nb_model2.fit(x_train,y_train)\n",
    "y_pred3=nb_model2.predict(x_test)\n",
    "y_pred3"
   ]
  },
  {
   "cell_type": "code",
   "execution_count": 40,
   "id": "e621a340-9092-4e8e-be24-fcd0cb221933",
   "metadata": {},
   "outputs": [
    {
     "name": "stdout",
     "output_type": "stream",
     "text": [
      "[[ 7864  3822]\n",
      " [ 3694 10596]]\n"
     ]
    },
    {
     "data": {
      "text/plain": [
       "<sklearn.metrics._plot.confusion_matrix.ConfusionMatrixDisplay at 0x2951f804990>"
      ]
     },
     "execution_count": 40,
     "metadata": {},
     "output_type": "execute_result"
    },
    {
     "data": {
      "image/png": "[encoded data removed]",
      "text/plain": [
       "<Figure size 640x480 with 2 Axes>"
      ]
     },
     "metadata": {},
     "output_type": "display_data"
    }
   ],
   "source": [
    "#confusion matrix\n",
    "from sklearn.metrics import confusion_matrix,ConfusionMatrixDisplay\n",
    "result = confusion_matrix(y_test,y_pred3)\n",
    "print(result)\n",
    "labels=[0,1]\n",
    "cmd = ConfusionMatrixDisplay(result,display_labels=labels)\n",
    "cmd.plot()"
   ]
  },
  {
   "cell_type": "code",
   "execution_count": 65,
   "id": "c668379f-a395-42f2-b845-58f92306d5c8",
   "metadata": {},
   "outputs": [
    {
     "name": "stdout",
     "output_type": "stream",
     "text": [
      "Accuracy:  71.0655990144749 \n",
      "\n",
      "              precision    recall  f1-score   support\n",
      "\n",
      "           0       0.68      0.67      0.68     11686\n",
      "           1       0.73      0.74      0.74     14290\n",
      "\n",
      "    accuracy                           0.71     25976\n",
      "   macro avg       0.71      0.71      0.71     25976\n",
      "weighted avg       0.71      0.71      0.71     25976\n",
      "\n"
     ]
    },
    {
     "data": {
      "text/plain": [
       "0.7161321989528796"
      ]
     },
     "execution_count": 65,
     "metadata": {},
     "output_type": "execute_result"
    }
   ],
   "source": [
    "# Accuracy score and classification report\n",
    "from sklearn.metrics import accuracy_score,classification_report\n",
    "print('Accuracy: ',accuracy_score(y_test,y_pred3)*100,'\\n')\n",
    "print(classification_report(y_test,y_pred3))\n",
    "\n",
    "training_score1= nb_model2.score(x_train,y_train)\n",
    "training_score1\n",
    "\n",
    "\n"
   ]
  },
  {
   "cell_type": "code",
   "execution_count": 66,
   "id": "13b87cbe-c1fc-4c77-8e1e-e36d88e5d9d3",
   "metadata": {},
   "outputs": [
    {
     "data": {
      "text/plain": [
       "0.710655990144749"
      ]
     },
     "execution_count": 66,
     "metadata": {},
     "output_type": "execute_result"
    }
   ],
   "source": [
    "testing_score2 =nb_model2.score(x_test,y_test)\n",
    "testing_score2"
   ]
  },
  {
   "cell_type": "markdown",
   "id": "cc853f36-aa31-49ba-8078-9c2077024bc3",
   "metadata": {},
   "source": [
    "Decision tree"
   ]
  },
  {
   "cell_type": "code",
   "execution_count": 43,
   "id": "ea59d1ba-35b1-4794-a1ee-b7f076f93761",
   "metadata": {},
   "outputs": [
    {
     "data": {
      "text/plain": [
       "array([1, 1, 0, ..., 0, 1, 0], shape=(25976,))"
      ]
     },
     "execution_count": 43,
     "metadata": {},
     "output_type": "execute_result"
    }
   ],
   "source": [
    "\n",
    "dt=DecisionTreeClassifier()\n",
    "dt.fit(x_train,y_train)\n",
    "y_pred5 = dt.predict(x_test)\n",
    "y_pred5"
   ]
  },
  {
   "cell_type": "code",
   "execution_count": 45,
   "id": "c808f5c2-9ec1-45c5-922f-9293ba76fd4f",
   "metadata": {},
   "outputs": [
    {
     "name": "stdout",
     "output_type": "stream",
     "text": [
      "[[10895   791]\n",
      " [  807 13483]]\n"
     ]
    },
    {
     "data": {
      "text/plain": [
       "<sklearn.metrics._plot.confusion_matrix.ConfusionMatrixDisplay at 0x295539dd0d0>"
      ]
     },
     "execution_count": 45,
     "metadata": {},
     "output_type": "execute_result"
    },
    {
     "data": {
      "image/png": "[encoded data removed]",
      "text/plain": [
       "<Figure size 640x480 with 2 Axes>"
      ]
     },
     "metadata": {},
     "output_type": "display_data"
    }
   ],
   "source": [
    "#confusion matrix\n",
    "from sklearn.metrics import confusion_matrix,ConfusionMatrixDisplay\n",
    "result = confusion_matrix(y_test,y_pred5)\n",
    "print(result)\n",
    "labels=[0,1]\n",
    "cmd = ConfusionMatrixDisplay(result,display_labels=labels)\n",
    "\n",
    "cmd.plot()"
   ]
  },
  {
   "cell_type": "code",
   "execution_count": 67,
   "id": "6c1cd1a6-f682-46c0-ab96-fa7f3a158133",
   "metadata": {},
   "outputs": [
    {
     "name": "stdout",
     "output_type": "stream",
     "text": [
      "Accuracy:  93.84816753926701 \n",
      "\n",
      "              precision    recall  f1-score   support\n",
      "\n",
      "           0       0.93      0.93      0.93     11686\n",
      "           1       0.94      0.94      0.94     14290\n",
      "\n",
      "    accuracy                           0.94     25976\n",
      "   macro avg       0.94      0.94      0.94     25976\n",
      "weighted avg       0.94      0.94      0.94     25976\n",
      "\n"
     ]
    },
    {
     "data": {
      "text/plain": [
       "1.0"
      ]
     },
     "execution_count": 67,
     "metadata": {},
     "output_type": "execute_result"
    }
   ],
   "source": [
    "\n",
    "# Accuracy score and classification report\n",
    "from sklearn.metrics import accuracy_score,classification_report\n",
    "print('Accuracy: ',accuracy_score(y_test,y_pred5)*100,'\\n')\n",
    "print(classification_report(y_test,y_pred5))\n",
    "\n",
    "training_score= dt.score(x_train,y_train)\n",
    "training_score\n",
    "\n"
   ]
  },
  {
   "cell_type": "code",
   "execution_count": 68,
   "id": "456c309f-d502-4c6e-9e45-e21ebfa84e7c",
   "metadata": {},
   "outputs": [
    {
     "data": {
      "text/plain": [
       "0.9384816753926701"
      ]
     },
     "execution_count": 68,
     "metadata": {},
     "output_type": "execute_result"
    }
   ],
   "source": [
    "testing_score = dt.score(x_test,y_test)\n",
    "testing_score"
   ]
  },
  {
   "cell_type": "markdown",
   "id": "3a08e824-a612-41a3-89aa-dfcf2d2b1a29",
   "metadata": {},
   "source": [
    "Random Forest"
   ]
  },
  {
   "cell_type": "code",
   "execution_count": 47,
   "id": "17152cb3-e118-48d8-b7e6-d3e46e8930f7",
   "metadata": {},
   "outputs": [
    {
     "data": {
      "text/plain": [
       "array([1, 1, 0, ..., 0, 1, 0], shape=(25976,))"
      ]
     },
     "execution_count": 47,
     "metadata": {},
     "output_type": "execute_result"
    }
   ],
   "source": [
    "rfc=RandomForestClassifier(n_estimators=20,criterion='gini',max_depth=5,max_features=5)\n",
    "rfc.fit(x_train,y_train)\n",
    "y_pred6 = rfc.predict(x_test)\n",
    "y_pred6\n"
   ]
  },
  {
   "cell_type": "code",
   "execution_count": 69,
   "id": "2e514413-06ce-4efb-9ade-e69f85c5ea0f",
   "metadata": {},
   "outputs": [
    {
     "name": "stdout",
     "output_type": "stream",
     "text": [
      "[[10071  1615]\n",
      " [ 1241 13049]]\n",
      "Accuracy:  89.00523560209425 \n",
      "\n",
      "              precision    recall  f1-score   support\n",
      "\n",
      "           0       0.89      0.86      0.88     11686\n",
      "           1       0.89      0.91      0.90     14290\n",
      "\n",
      "    accuracy                           0.89     25976\n",
      "   macro avg       0.89      0.89      0.89     25976\n",
      "weighted avg       0.89      0.89      0.89     25976\n",
      "\n"
     ]
    },
    {
     "data": {
      "text/plain": [
       "0.8943447797967354"
      ]
     },
     "execution_count": 69,
     "metadata": {},
     "output_type": "execute_result"
    }
   ],
   "source": [
    "#confusion matrix\n",
    "from sklearn.metrics import confusion_matrix,ConfusionMatrixDisplay\n",
    "result = confusion_matrix(y_test,y_pred6)\n",
    "print(result)\n",
    "labels=[0,1]\n",
    "cmd = ConfusionMatrixDisplay(result,display_labels=labels)\n",
    "\n",
    "\n",
    "# Accuracy score and classification report\n",
    "from sklearn.metrics import accuracy_score,classification_report\n",
    "print('Accuracy: ',accuracy_score(y_test,y_pred6)*100,'\\n')\n",
    "print(classification_report(y_test,y_pred6))\n",
    "\n",
    "training_score= rfc.score(x_train,y_train)\n",
    "training_score\n",
    "\n",
    "\n"
   ]
  },
  {
   "cell_type": "code",
   "execution_count": 70,
   "id": "575ac458-bb54-41fa-8dcc-64a2473e730f",
   "metadata": {},
   "outputs": [
    {
     "data": {
      "text/plain": [
       "0.8900523560209425"
      ]
     },
     "execution_count": 70,
     "metadata": {},
     "output_type": "execute_result"
    }
   ],
   "source": [
    "testing_score = rfc.score(x_test,y_test)\n",
    "testing_score"
   ]
  },
  {
   "cell_type": "markdown",
   "id": "1292b4d7-b6c2-4418-a645-f2382f2db7e3",
   "metadata": {},
   "source": [
    "Ada Boost"
   ]
  },
  {
   "cell_type": "code",
   "execution_count": 50,
   "id": "3fad69cc-2516-47dc-b0aa-f7825e9b0756",
   "metadata": {},
   "outputs": [
    {
     "name": "stdout",
     "output_type": "stream",
     "text": [
      "[[ 9851  1835]\n",
      " [ 2803 11487]]\n"
     ]
    },
    {
     "data": {
      "text/plain": [
       "<sklearn.metrics._plot.confusion_matrix.ConfusionMatrixDisplay at 0x29554ceccd0>"
      ]
     },
     "execution_count": 50,
     "metadata": {},
     "output_type": "execute_result"
    },
    {
     "data": {
      "image/png": "[encoded data removed]",
      "text/plain": [
       "<Figure size 640x480 with 2 Axes>"
      ]
     },
     "metadata": {},
     "output_type": "display_data"
    }
   ],
   "source": [
    "abc_model = AdaBoostClassifier(n_estimators=10,learning_rate=1.0)\n",
    "abc_model.fit(x_train,y_train)\n",
    "y_pred7=abc_model.predict(x_test)\n",
    "y_pred7\n",
    "\n",
    "#confusion matrix\n",
    "from sklearn.metrics import confusion_matrix,ConfusionMatrixDisplay\n",
    "result=confusion_matrix(y_test,y_pred7)\n",
    "print(result)\n",
    "labels=[0,1]\n",
    "cmd=ConfusionMatrixDisplay(result,display_labels=labels)\n",
    "\n",
    "\n",
    "cmd.plot()\n",
    "\n"
   ]
  },
  {
   "cell_type": "code",
   "execution_count": 71,
   "id": "188534f7-7e81-48d3-9b53-60be094166d4",
   "metadata": {},
   "outputs": [
    {
     "name": "stdout",
     "output_type": "stream",
     "text": [
      "Accuracy 82.14505697566985 \n",
      "\n",
      "              precision    recall  f1-score   support\n",
      "\n",
      "           0       0.78      0.84      0.81     11686\n",
      "           1       0.86      0.80      0.83     14290\n",
      "\n",
      "    accuracy                           0.82     25976\n",
      "   macro avg       0.82      0.82      0.82     25976\n",
      "weighted avg       0.82      0.82      0.82     25976\n",
      "\n"
     ]
    },
    {
     "data": {
      "text/plain": [
       "0.8285147828765014"
      ]
     },
     "execution_count": 71,
     "metadata": {},
     "output_type": "execute_result"
    }
   ],
   "source": [
    "#accuracy score and classification report\n",
    "from sklearn.metrics import accuracy_score,classification_report\n",
    "print('Accuracy',accuracy_score(y_test,y_pred7)*100,'\\n')\n",
    "print(classification_report(y_test,y_pred7))\n",
    "\n",
    "training_score = abc_model.score(x_train,y_train)\n",
    "training_score\n",
    "\n",
    "\n"
   ]
  },
  {
   "cell_type": "code",
   "execution_count": 72,
   "id": "56117f55-818f-4a27-a7c4-e0455a86a18e",
   "metadata": {},
   "outputs": [
    {
     "data": {
      "text/plain": [
       "0.8214505697566985"
      ]
     },
     "execution_count": 72,
     "metadata": {},
     "output_type": "execute_result"
    }
   ],
   "source": [
    "\n",
    "testing_score = abc_model.score(x_test,y_test)\n",
    "testing_score"
   ]
  },
  {
   "cell_type": "markdown",
   "id": "e6213350-70bd-4c11-a625-49b0ad0b7154",
   "metadata": {},
   "source": [
    "XG Boost"
   ]
  },
  {
   "cell_type": "code",
   "execution_count": 52,
   "id": "bc2d1541-2592-4500-8ef6-01fa4c6dcf07",
   "metadata": {},
   "outputs": [
    {
     "name": "stdout",
     "output_type": "stream",
     "text": [
      "[[11274   412]\n",
      " [  635 13655]]\n"
     ]
    },
    {
     "data": {
      "text/plain": [
       "<sklearn.metrics._plot.confusion_matrix.ConfusionMatrixDisplay at 0x29550938090>"
      ]
     },
     "execution_count": 52,
     "metadata": {},
     "output_type": "execute_result"
    },
    {
     "data": {
      "image/png": "[encoded data removed]",
      "text/plain": [
       "<Figure size 640x480 with 2 Axes>"
      ]
     },
     "metadata": {},
     "output_type": "display_data"
    }
   ],
   "source": [
    "xgb_model = XGBClassifier()\n",
    "xgb_model.fit(x_train,y_train)\n",
    "y_pred8 = xgb_model.predict(x_test)\n",
    "y_pred8\n",
    "\n",
    "#confusion matrix\n",
    "from sklearn.metrics import confusion_matrix,ConfusionMatrixDisplay\n",
    "result=confusion_matrix(y_test,y_pred8)\n",
    "print(result)\n",
    "labels=[0,1]\n",
    "cmd=ConfusionMatrixDisplay(result,display_labels=labels)\n",
    "\n",
    "cmd.plot()\n"
   ]
  },
  {
   "cell_type": "code",
   "execution_count": 73,
   "id": "a8a45560-e779-4a11-a7a7-8fac9972831a",
   "metadata": {},
   "outputs": [
    {
     "data": {
      "text/plain": [
       "0.9710983215275639"
      ]
     },
     "execution_count": 73,
     "metadata": {},
     "output_type": "execute_result"
    }
   ],
   "source": [
    "training_score = xgb_model.score(x_train,y_train)\n",
    "training_score\n"
   ]
  },
  {
   "cell_type": "code",
   "execution_count": 74,
   "id": "ae95f064-a88e-4579-9990-b87599688332",
   "metadata": {},
   "outputs": [
    {
     "data": {
      "text/plain": [
       "0.95969356328919"
      ]
     },
     "execution_count": 74,
     "metadata": {},
     "output_type": "execute_result"
    }
   ],
   "source": [
    "testing_score = xgb_model.score(x_test,y_test)\n",
    "testing_score"
   ]
  },
  {
   "cell_type": "markdown",
   "id": "2d231edd-2586-44a0-808a-d1cf63500b86",
   "metadata": {},
   "source": [
    "Logistic Regression"
   ]
  },
  {
   "cell_type": "code",
   "execution_count": 55,
   "id": "d4e14e80-4245-4e38-b81c-edaaaf41e6d0",
   "metadata": {},
   "outputs": [
    {
     "name": "stderr",
     "output_type": "stream",
     "text": [
      "C:\\Users\\presh\\AppData\\Local\\Programs\\Python\\Python311\\Lib\\site-packages\\sklearn\\linear_model\\_logistic.py:465: ConvergenceWarning: lbfgs failed to converge (status=1):\n",
      "STOP: TOTAL NO. OF ITERATIONS REACHED LIMIT.\n",
      "\n",
      "Increase the number of iterations (max_iter) or scale the data as shown in:\n",
      "    https://scikit-learn.org/stable/modules/preprocessing.html\n",
      "Please also refer to the documentation for alternative solver options:\n",
      "    https://scikit-learn.org/stable/modules/linear_model.html#logistic-regression\n",
      "  n_iter_i = _check_optimize_result(\n"
     ]
    },
    {
     "data": {
      "text/plain": [
       "array([1, 1, 1, ..., 0, 1, 0], shape=(25976,))"
      ]
     },
     "execution_count": 55,
     "metadata": {},
     "output_type": "execute_result"
    }
   ],
   "source": [
    "lr_model = LogisticRegression()\n",
    "lr_model.fit(x_train,y_train)\n",
    "y_pred9 = lr_model.predict(x_test)\n",
    "y_pred9"
   ]
  },
  {
   "cell_type": "code",
   "execution_count": 56,
   "id": "67317720-f91e-4e71-a994-5e21dd9719fa",
   "metadata": {},
   "outputs": [
    {
     "name": "stdout",
     "output_type": "stream",
     "text": [
      "[[ 9510  2176]\n",
      " [ 2185 12105]]\n"
     ]
    },
    {
     "data": {
      "text/plain": [
       "<sklearn.metrics._plot.confusion_matrix.ConfusionMatrixDisplay at 0x29550934610>"
      ]
     },
     "execution_count": 56,
     "metadata": {},
     "output_type": "execute_result"
    },
    {
     "data": {
      "image/png": "[encoded data removed]",
      "text/plain": [
       "<Figure size 640x480 with 2 Axes>"
      ]
     },
     "metadata": {},
     "output_type": "display_data"
    }
   ],
   "source": [
    "#confusion matrix\n",
    "from sklearn.metrics import confusion_matrix,ConfusionMatrixDisplay\n",
    "result=confusion_matrix(y_test,y_pred9)\n",
    "print(result)\n",
    "labels=[0,1]\n",
    "cmd=ConfusionMatrixDisplay(result,display_labels=labels)\n",
    "\n",
    "cmd.plot()"
   ]
  },
  {
   "cell_type": "code",
   "execution_count": 75,
   "id": "6efa1f61-597c-49f5-b846-c2b6a3dab429",
   "metadata": {},
   "outputs": [
    {
     "name": "stdout",
     "output_type": "stream",
     "text": [
      "Accuracy 83.21142593162921 \n",
      "\n",
      "              precision    recall  f1-score   support\n",
      "\n",
      "           0       0.81      0.81      0.81     11686\n",
      "           1       0.85      0.85      0.85     14290\n",
      "\n",
      "    accuracy                           0.83     25976\n",
      "   macro avg       0.83      0.83      0.83     25976\n",
      "weighted avg       0.83      0.83      0.83     25976\n",
      "\n"
     ]
    },
    {
     "data": {
      "text/plain": [
       "0.8367050354173082"
      ]
     },
     "execution_count": 75,
     "metadata": {},
     "output_type": "execute_result"
    }
   ],
   "source": [
    "#accuracy score and classification report\n",
    "from sklearn.metrics import accuracy_score,classification_report\n",
    "print('Accuracy',accuracy_score(y_test,y_pred9)*100,'\\n')\n",
    "print(classification_report(y_test,y_pred9))\n",
    "\n",
    "training_score = lr_model.score(x_train,y_train)\n",
    "training_score\n",
    "\n"
   ]
  },
  {
   "cell_type": "code",
   "execution_count": 76,
   "id": "c4cdfc7a-eca0-4648-aa0c-bb24fcb2a587",
   "metadata": {},
   "outputs": [
    {
     "data": {
      "text/plain": [
       "0.832114259316292"
      ]
     },
     "execution_count": 76,
     "metadata": {},
     "output_type": "execute_result"
    }
   ],
   "source": [
    "testing_score = lr_model.score(x_test,y_test)\n",
    "testing_score"
   ]
  },
  {
   "cell_type": "code",
   "execution_count": 79,
   "id": "ea26dfdb-59d2-4291-bba3-116131279d1e",
   "metadata": {},
   "outputs": [
    {
     "data": {
      "text/plain": [
       "<Axes: xlabel='Model', ylabel='Accuracy'>"
      ]
     },
     "execution_count": 79,
     "metadata": {},
     "output_type": "execute_result"
    },
    {
     "data": {
      "image/png": "[encoded data removed]",
      "text/plain": [
       "<Figure size 1800x500 with 1 Axes>"
      ]
     },
     "metadata": {},
     "output_type": "display_data"
    }
   ],
   "source": [
    "#accuracy score comparison\n",
    "plt.figure(figsize=(18,5))\n",
    "comparison = pd.DataFrame({'Model':['Naive Bayes-GNB','Naive Bayes-BNB',\n",
    "                                    'Decision Tree','Random Forest','Ada Boost','XG Boost','LogisticRegression'],'Accuracy':\n",
    "[81.49,71.06,93.82,89.33,87.10,95.87,83.22]})\n",
    "#sns.barplot(x='Model',y='Accuracy',data=comparison)\n",
    "sns.barplot(x='Model', y='Accuracy', data=comparison, hue='Model', palette='coolwarm', legend=False)\n"
   ]
  },
  {
   "cell_type": "markdown",
   "id": "2c3646db-163d-4725-802a-d78f3e51eaeb",
   "metadata": {},
   "source": [
    "Here, we can see that the XG Boost model has the highest accuracy score (95.87)."
   ]
  },
  {
   "cell_type": "markdown",
   "id": "87e5e9d9-1f93-4c99-8ba7-4e39ad5709c2",
   "metadata": {},
   "source": [
    "OVERSAMPLING\n",
    "\n",
    "Oversampling is a technique used in machine learning to address class imbalance by increasing the number of instances in the minority class (the less frequent class). This helps to balance the class distribution, which can lead to better model performance.\n",
    "\n",
    "SMOTE-for data balancing-synthetic minority over sampling Technique."
   ]
  },
  {
   "cell_type": "code",
   "execution_count": 84,
   "id": "4d853082-aa8d-42e3-8f5d-c3c8566f7a1d",
   "metadata": {},
   "outputs": [
    {
     "name": "stdout",
     "output_type": "stream",
     "text": [
      "Requirement already satisfied: imbalanced-learn in c:\\users\\presh\\appdata\\local\\programs\\python\\python311\\lib\\site-packages (0.13.0)\n",
      "Requirement already satisfied: numpy<3,>=1.24.3 in c:\\users\\presh\\appdata\\local\\programs\\python\\python311\\lib\\site-packages (from imbalanced-learn) (2.2.3)\n",
      "Requirement already satisfied: scipy<2,>=1.10.1 in c:\\users\\presh\\appdata\\local\\programs\\python\\python311\\lib\\site-packages (from imbalanced-learn) (1.15.2)\n",
      "Requirement already satisfied: scikit-learn<2,>=1.3.2 in c:\\users\\presh\\appdata\\local\\programs\\python\\python311\\lib\\site-packages (from imbalanced-learn) (1.6.1)\n",
      "Requirement already satisfied: sklearn-compat<1,>=0.1 in c:\\users\\presh\\appdata\\local\\programs\\python\\python311\\lib\\site-packages (from imbalanced-learn) (0.1.3)\n",
      "Requirement already satisfied: joblib<2,>=1.1.1 in c:\\users\\presh\\appdata\\local\\programs\\python\\python311\\lib\\site-packages (from imbalanced-learn) (1.4.2)\n",
      "Requirement already satisfied: threadpoolctl<4,>=2.0.0 in c:\\users\\presh\\appdata\\local\\programs\\python\\python311\\lib\\site-packages (from imbalanced-learn) (3.5.0)\n"
     ]
    },
    {
     "name": "stderr",
     "output_type": "stream",
     "text": [
      "\n",
      "[notice] A new release of pip is available: 25.0.1 -> 25.1.1\n",
      "[notice] To update, run: python.exe -m pip install --upgrade pip\n"
     ]
    }
   ],
   "source": [
    "!pip install imbalanced-learn\n"
   ]
  },
  {
   "cell_type": "code",
   "execution_count": 85,
   "id": "f1fc8997-1a6b-4ac6-8be8-32911ab9e4af",
   "metadata": {},
   "outputs": [
    {
     "data": {
      "text/plain": [
       "satisfaction\n",
       "1    71087\n",
       "0    58793\n",
       "Name: count, dtype: int64"
      ]
     },
     "execution_count": 85,
     "metadata": {},
     "output_type": "execute_result"
    }
   ],
   "source": [
    "from imblearn.over_sampling import SMOTE\n",
    "sm=SMOTE()\n",
    "x_res,y_res = sm.fit_resample(x,y)\n",
    "y.value_counts()\n",
    "\n"
   ]
  },
  {
   "cell_type": "code",
   "execution_count": 86,
   "id": "cc3091f9-6c29-43e7-8132-af2ccb9d5722",
   "metadata": {},
   "outputs": [
    {
     "data": {
      "text/plain": [
       "satisfaction\n",
       "1    71087\n",
       "0    71087\n",
       "Name: count, dtype: int64"
      ]
     },
     "execution_count": 86,
     "metadata": {},
     "output_type": "execute_result"
    }
   ],
   "source": [
    "y_res.value_counts()"
   ]
  },
  {
   "cell_type": "code",
   "execution_count": 87,
   "id": "011945b6-ee8a-41b8-a798-034c4cd4eebe",
   "metadata": {},
   "outputs": [
    {
     "data": {
      "text/html": [
       "<div>\n",
       "<style scoped>\n",
       "    .dataframe tbody tr th:only-of-type {\n",
       "        vertical-align: middle;\n",
       "    }\n",
       "\n",
       "    .dataframe tbody tr th {\n",
       "        vertical-align: top;\n",
       "    }\n",
       "\n",
       "    .dataframe thead th {\n",
       "        text-align: right;\n",
       "    }\n",
       "</style>\n",
       "<table border=\"1\" class=\"dataframe\">\n",
       "  <thead>\n",
       "    <tr style=\"text-align: right;\">\n",
       "      <th></th>\n",
       "      <th>Age</th>\n",
       "      <th>Flight Distance</th>\n",
       "      <th>Seat comfort</th>\n",
       "      <th>Departure/Arrival time convenient</th>\n",
       "      <th>Food and drink</th>\n",
       "      <th>Gate location</th>\n",
       "      <th>Inflight wifi service</th>\n",
       "      <th>Inflight entertainment</th>\n",
       "      <th>Online support</th>\n",
       "      <th>Ease of Online booking</th>\n",
       "      <th>...</th>\n",
       "      <th>Baggage handling</th>\n",
       "      <th>Checkin service</th>\n",
       "      <th>Cleanliness</th>\n",
       "      <th>Online boarding</th>\n",
       "      <th>Departure Delay in Minutes</th>\n",
       "      <th>Gender_Male</th>\n",
       "      <th>Customer Type_disloyal Customer</th>\n",
       "      <th>Class_Eco</th>\n",
       "      <th>Class_Eco Plus</th>\n",
       "      <th>Type of Travel_Personal Travel</th>\n",
       "    </tr>\n",
       "  </thead>\n",
       "  <tbody>\n",
       "    <tr>\n",
       "      <th>0</th>\n",
       "      <td>1.704543</td>\n",
       "      <td>-1.700258</td>\n",
       "      <td>0</td>\n",
       "      <td>0</td>\n",
       "      <td>0</td>\n",
       "      <td>2</td>\n",
       "      <td>2</td>\n",
       "      <td>4</td>\n",
       "      <td>2</td>\n",
       "      <td>3</td>\n",
       "      <td>...</td>\n",
       "      <td>3</td>\n",
       "      <td>5</td>\n",
       "      <td>3</td>\n",
       "      <td>2</td>\n",
       "      <td>-0.386776</td>\n",
       "      <td>False</td>\n",
       "      <td>False</td>\n",
       "      <td>True</td>\n",
       "      <td>False</td>\n",
       "      <td>True</td>\n",
       "    </tr>\n",
       "    <tr>\n",
       "      <th>1</th>\n",
       "      <td>0.512766</td>\n",
       "      <td>0.474779</td>\n",
       "      <td>0</td>\n",
       "      <td>0</td>\n",
       "      <td>0</td>\n",
       "      <td>3</td>\n",
       "      <td>0</td>\n",
       "      <td>2</td>\n",
       "      <td>2</td>\n",
       "      <td>3</td>\n",
       "      <td>...</td>\n",
       "      <td>4</td>\n",
       "      <td>2</td>\n",
       "      <td>3</td>\n",
       "      <td>2</td>\n",
       "      <td>7.673225</td>\n",
       "      <td>True</td>\n",
       "      <td>False</td>\n",
       "      <td>False</td>\n",
       "      <td>False</td>\n",
       "      <td>True</td>\n",
       "    </tr>\n",
       "    <tr>\n",
       "      <th>2</th>\n",
       "      <td>-1.605950</td>\n",
       "      <td>0.152331</td>\n",
       "      <td>0</td>\n",
       "      <td>0</td>\n",
       "      <td>0</td>\n",
       "      <td>3</td>\n",
       "      <td>2</td>\n",
       "      <td>0</td>\n",
       "      <td>2</td>\n",
       "      <td>2</td>\n",
       "      <td>...</td>\n",
       "      <td>4</td>\n",
       "      <td>4</td>\n",
       "      <td>4</td>\n",
       "      <td>2</td>\n",
       "      <td>-0.386776</td>\n",
       "      <td>False</td>\n",
       "      <td>False</td>\n",
       "      <td>True</td>\n",
       "      <td>False</td>\n",
       "      <td>True</td>\n",
       "    </tr>\n",
       "    <tr>\n",
       "      <th>3</th>\n",
       "      <td>1.373494</td>\n",
       "      <td>-1.346159</td>\n",
       "      <td>0</td>\n",
       "      <td>0</td>\n",
       "      <td>0</td>\n",
       "      <td>3</td>\n",
       "      <td>3</td>\n",
       "      <td>4</td>\n",
       "      <td>3</td>\n",
       "      <td>1</td>\n",
       "      <td>...</td>\n",
       "      <td>1</td>\n",
       "      <td>4</td>\n",
       "      <td>1</td>\n",
       "      <td>3</td>\n",
       "      <td>-0.386776</td>\n",
       "      <td>False</td>\n",
       "      <td>False</td>\n",
       "      <td>True</td>\n",
       "      <td>False</td>\n",
       "      <td>True</td>\n",
       "    </tr>\n",
       "    <tr>\n",
       "      <th>4</th>\n",
       "      <td>2.035592</td>\n",
       "      <td>-1.612228</td>\n",
       "      <td>0</td>\n",
       "      <td>0</td>\n",
       "      <td>0</td>\n",
       "      <td>3</td>\n",
       "      <td>4</td>\n",
       "      <td>3</td>\n",
       "      <td>4</td>\n",
       "      <td>2</td>\n",
       "      <td>...</td>\n",
       "      <td>2</td>\n",
       "      <td>4</td>\n",
       "      <td>2</td>\n",
       "      <td>5</td>\n",
       "      <td>-0.386776</td>\n",
       "      <td>False</td>\n",
       "      <td>False</td>\n",
       "      <td>True</td>\n",
       "      <td>False</td>\n",
       "      <td>True</td>\n",
       "    </tr>\n",
       "  </tbody>\n",
       "</table>\n",
       "<p>5 rows × 22 columns</p>\n",
       "</div>"
      ],
      "text/plain": [
       "        Age  Flight Distance  Seat comfort  Departure/Arrival time convenient  \\\n",
       "0  1.704543        -1.700258             0                                  0   \n",
       "1  0.512766         0.474779             0                                  0   \n",
       "2 -1.605950         0.152331             0                                  0   \n",
       "3  1.373494        -1.346159             0                                  0   \n",
       "4  2.035592        -1.612228             0                                  0   \n",
       "\n",
       "   Food and drink  Gate location  Inflight wifi service  \\\n",
       "0               0              2                      2   \n",
       "1               0              3                      0   \n",
       "2               0              3                      2   \n",
       "3               0              3                      3   \n",
       "4               0              3                      4   \n",
       "\n",
       "   Inflight entertainment  Online support  Ease of Online booking  ...  \\\n",
       "0                       4               2                       3  ...   \n",
       "1                       2               2                       3  ...   \n",
       "2                       0               2                       2  ...   \n",
       "3                       4               3                       1  ...   \n",
       "4                       3               4                       2  ...   \n",
       "\n",
       "   Baggage handling  Checkin service  Cleanliness  Online boarding  \\\n",
       "0                 3                5            3                2   \n",
       "1                 4                2            3                2   \n",
       "2                 4                4            4                2   \n",
       "3                 1                4            1                3   \n",
       "4                 2                4            2                5   \n",
       "\n",
       "   Departure Delay in Minutes  Gender_Male  Customer Type_disloyal Customer  \\\n",
       "0                   -0.386776        False                            False   \n",
       "1                    7.673225         True                            False   \n",
       "2                   -0.386776        False                            False   \n",
       "3                   -0.386776        False                            False   \n",
       "4                   -0.386776        False                            False   \n",
       "\n",
       "   Class_Eco  Class_Eco Plus  Type of Travel_Personal Travel  \n",
       "0       True           False                            True  \n",
       "1      False           False                            True  \n",
       "2       True           False                            True  \n",
       "3       True           False                            True  \n",
       "4       True           False                            True  \n",
       "\n",
       "[5 rows x 22 columns]"
      ]
     },
     "execution_count": 87,
     "metadata": {},
     "output_type": "execute_result"
    }
   ],
   "source": [
    "selected_features = x_res[[\"Age\", \"Flight Distance\", \"Departure Delay in Minutes\"]]\n",
    "std.fit(selected_features)\n",
    "s = std.transform(selected_features)\n",
    "x_res[[\"Age\", \"Flight Distance\", \"Departure Delay in Minutes\"]]=s\n",
    "x_res.head()\n"
   ]
  },
  {
   "cell_type": "code",
   "execution_count": 88,
   "id": "03beb133-d021-4757-9cc9-86a10536c5fd",
   "metadata": {},
   "outputs": [
    {
     "data": {
      "text/plain": [
       "array([1, 0, 0, ..., 0, 1, 0], shape=(28435,))"
      ]
     },
     "execution_count": 88,
     "metadata": {},
     "output_type": "execute_result"
    }
   ],
   "source": [
    "#splitting\n",
    "x_train_res,x_test_res,y_train_res,y_test_res = train_test_split(x_res,y_res,test_size=0.20,random_state=0)\n",
    "xgb_model = XGBClassifier()\n",
    "xgb_model.fit(x_train_res,y_train_res)\n",
    "y_pred = xgb_model.predict(x_test_res)\n",
    "y_pred\n"
   ]
  },
  {
   "cell_type": "code",
   "execution_count": 89,
   "id": "82ec7222-a69c-42e0-b372-a730b4bd7604",
   "metadata": {},
   "outputs": [
    {
     "name": "stdout",
     "output_type": "stream",
     "text": [
      "[[13718   422]\n",
      " [  709 13586]]\n"
     ]
    }
   ],
   "source": [
    "#confusion matrix\n",
    "from sklearn.metrics import confusion_matrix,ConfusionMatrixDisplay\n",
    "result_os = confusion_matrix(y_test_res,y_pred)\n",
    "print(result_os)\n",
    "labels=[0,1]\n",
    "cmd_os = ConfusionMatrixDisplay(result_os,display_labels=labels)"
   ]
  },
  {
   "cell_type": "code",
   "execution_count": 90,
   "id": "e5497411-6c3a-461a-9b72-90c00347cc6a",
   "metadata": {},
   "outputs": [
    {
     "data": {
      "text/plain": [
       "<sklearn.metrics._plot.confusion_matrix.ConfusionMatrixDisplay at 0x2954f074050>"
      ]
     },
     "execution_count": 90,
     "metadata": {},
     "output_type": "execute_result"
    },
    {
     "data": {
      "image/png": "[encoded data removed]",
      "text/plain": [
       "<Figure size 640x480 with 2 Axes>"
      ]
     },
     "metadata": {},
     "output_type": "display_data"
    }
   ],
   "source": [
    "cmd_os.plot()"
   ]
  },
  {
   "cell_type": "code",
   "execution_count": 91,
   "id": "4e5a1c27-8890-40d5-a0ed-2fcc66a53c42",
   "metadata": {},
   "outputs": [
    {
     "name": "stdout",
     "output_type": "stream",
     "text": [
      "Accuracy 96.02250747318446 \n",
      "\n",
      "              precision    recall  f1-score   support\n",
      "\n",
      "           0       0.95      0.97      0.96     14140\n",
      "           1       0.97      0.95      0.96     14295\n",
      "\n",
      "    accuracy                           0.96     28435\n",
      "   macro avg       0.96      0.96      0.96     28435\n",
      "weighted avg       0.96      0.96      0.96     28435\n",
      "\n"
     ]
    }
   ],
   "source": [
    "#accuracy score and classification report\n",
    "from sklearn.metrics import accuracy_score,classification_report\n",
    "print('Accuracy',accuracy_score(y_test_res,y_pred)*100,'\\n')\n",
    "print(classification_report(y_test_res,y_pred))\n"
   ]
  },
  {
   "cell_type": "code",
   "execution_count": 92,
   "id": "62a18e20-129d-4815-bf4f-8643e150263c",
   "metadata": {},
   "outputs": [
    {
     "data": {
      "text/plain": [
       "0.9722083014621195"
      ]
     },
     "execution_count": 92,
     "metadata": {},
     "output_type": "execute_result"
    }
   ],
   "source": [
    "training_score = xgb_model.score(x_train_res,y_train_res)\n",
    "training_score\n"
   ]
  },
  {
   "cell_type": "code",
   "execution_count": 93,
   "id": "952cf741-aadb-4b33-81d0-ed78d5268dd0",
   "metadata": {},
   "outputs": [
    {
     "data": {
      "text/plain": [
       "0.9602250747318446"
      ]
     },
     "execution_count": 93,
     "metadata": {},
     "output_type": "execute_result"
    }
   ],
   "source": [
    "testing_score = xgb_model.score(x_test_res,y_test_res)\n",
    "testing_score\n",
    "\n"
   ]
  },
  {
   "cell_type": "code",
   "execution_count": null,
   "id": "08d17bcb-8052-4f06-b171-90ba964ceefd",
   "metadata": {},
   "outputs": [],
   "source": []
  }
 ],
 "metadata": {
  "kernelspec": {
   "display_name": "Python 3 (ipykernel)",
   "language": "python",
   "name": "python3"
  },
  "language_info": {
   "codemirror_mode": {
    "name": "ipython",
    "version": 3
   },
   "file_extension": ".py",
   "mimetype": "text/x-python",
   "name": "python",
   "nbconvert_exporter": "python",
   "pygments_lexer": "ipython3",
   "version": "3.11.9"
  }
 },
 "nbformat": 4,
 "nbformat_minor": 5
}
